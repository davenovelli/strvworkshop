{
 "cells": [
  {
   "cell_type": "code",
   "execution_count": 34,
   "metadata": {},
   "outputs": [
    {
     "name": "stdout",
     "output_type": "stream",
     "text": [
      "0.20.1\n",
      "0.19.0\n",
      "1.13\n"
     ]
    }
   ],
   "source": [
    "import pandas as pd\n",
    "import numpy as np\n",
    "import scipy\n",
    "from scipy import sparse\n",
    "import lightfm\n",
    "print(pd.__version__)\n",
    "print(scipy.__version__)\n",
    "print(lightfm.__version__)\n",
    "\n",
    "path = '../data/'"
   ]
  },
  {
   "cell_type": "code",
   "execution_count": 35,
   "metadata": {},
   "outputs": [
    {
     "data": {
      "text/html": [
       "<div>\n",
       "<style>\n",
       "    .dataframe thead tr:only-child th {\n",
       "        text-align: right;\n",
       "    }\n",
       "\n",
       "    .dataframe thead th {\n",
       "        text-align: left;\n",
       "    }\n",
       "\n",
       "    .dataframe tbody tr th {\n",
       "        vertical-align: top;\n",
       "    }\n",
       "</style>\n",
       "<table border=\"1\" class=\"dataframe\">\n",
       "  <thead>\n",
       "    <tr style=\"text-align: right;\">\n",
       "      <th></th>\n",
       "      <th>from_account_id</th>\n",
       "      <th>to_account_id</th>\n",
       "      <th>created</th>\n",
       "      <th>liked</th>\n",
       "      <th>superlike</th>\n",
       "      <th>recycled</th>\n",
       "    </tr>\n",
       "  </thead>\n",
       "  <tbody>\n",
       "    <tr>\n",
       "      <th>0</th>\n",
       "      <td>239191</td>\n",
       "      <td>2243372</td>\n",
       "      <td>2016-05-12 03:58:10.996672</td>\n",
       "      <td>t</td>\n",
       "      <td>f</td>\n",
       "      <td>NaN</td>\n",
       "    </tr>\n",
       "    <tr>\n",
       "      <th>1</th>\n",
       "      <td>2602100</td>\n",
       "      <td>2243372</td>\n",
       "      <td>2016-08-25 01:43:25.775144</td>\n",
       "      <td>t</td>\n",
       "      <td>f</td>\n",
       "      <td>NaN</td>\n",
       "    </tr>\n",
       "    <tr>\n",
       "      <th>2</th>\n",
       "      <td>2082098</td>\n",
       "      <td>2243372</td>\n",
       "      <td>2016-06-10 13:37:36.451993</td>\n",
       "      <td>f</td>\n",
       "      <td>f</td>\n",
       "      <td>NaN</td>\n",
       "    </tr>\n",
       "    <tr>\n",
       "      <th>3</th>\n",
       "      <td>294483</td>\n",
       "      <td>2243372</td>\n",
       "      <td>2016-07-26 07:12:55.34634</td>\n",
       "      <td>t</td>\n",
       "      <td>f</td>\n",
       "      <td>NaN</td>\n",
       "    </tr>\n",
       "    <tr>\n",
       "      <th>4</th>\n",
       "      <td>124990</td>\n",
       "      <td>2243372</td>\n",
       "      <td>2016-05-17 02:34:13.533005</td>\n",
       "      <td>f</td>\n",
       "      <td>f</td>\n",
       "      <td>NaN</td>\n",
       "    </tr>\n",
       "    <tr>\n",
       "      <th>5</th>\n",
       "      <td>3228297</td>\n",
       "      <td>2243372</td>\n",
       "      <td>2017-03-20 07:13:23.112937</td>\n",
       "      <td>f</td>\n",
       "      <td>f</td>\n",
       "      <td>NaN</td>\n",
       "    </tr>\n",
       "    <tr>\n",
       "      <th>6</th>\n",
       "      <td>2465892</td>\n",
       "      <td>2243372</td>\n",
       "      <td>2016-07-16 19:35:41.974981</td>\n",
       "      <td>t</td>\n",
       "      <td>f</td>\n",
       "      <td>NaN</td>\n",
       "    </tr>\n",
       "    <tr>\n",
       "      <th>7</th>\n",
       "      <td>2171011</td>\n",
       "      <td>2243372</td>\n",
       "      <td>2017-03-31 11:36:59.853332</td>\n",
       "      <td>t</td>\n",
       "      <td>f</td>\n",
       "      <td>NaN</td>\n",
       "    </tr>\n",
       "    <tr>\n",
       "      <th>8</th>\n",
       "      <td>2575257</td>\n",
       "      <td>2243372</td>\n",
       "      <td>2016-08-19 20:06:58.231034</td>\n",
       "      <td>t</td>\n",
       "      <td>f</td>\n",
       "      <td>NaN</td>\n",
       "    </tr>\n",
       "    <tr>\n",
       "      <th>9</th>\n",
       "      <td>493269</td>\n",
       "      <td>2243372</td>\n",
       "      <td>2016-06-01 18:04:59.297187</td>\n",
       "      <td>t</td>\n",
       "      <td>f</td>\n",
       "      <td>NaN</td>\n",
       "    </tr>\n",
       "  </tbody>\n",
       "</table>\n",
       "</div>"
      ],
      "text/plain": [
       "   from_account_id  to_account_id                     created liked superlike  \\\n",
       "0           239191        2243372  2016-05-12 03:58:10.996672     t         f   \n",
       "1          2602100        2243372  2016-08-25 01:43:25.775144     t         f   \n",
       "2          2082098        2243372  2016-06-10 13:37:36.451993     f         f   \n",
       "3           294483        2243372   2016-07-26 07:12:55.34634     t         f   \n",
       "4           124990        2243372  2016-05-17 02:34:13.533005     f         f   \n",
       "5          3228297        2243372  2017-03-20 07:13:23.112937     f         f   \n",
       "6          2465892        2243372  2016-07-16 19:35:41.974981     t         f   \n",
       "7          2171011        2243372  2017-03-31 11:36:59.853332     t         f   \n",
       "8          2575257        2243372  2016-08-19 20:06:58.231034     t         f   \n",
       "9           493269        2243372  2016-06-01 18:04:59.297187     t         f   \n",
       "\n",
       "   recycled  \n",
       "0       NaN  \n",
       "1       NaN  \n",
       "2       NaN  \n",
       "3       NaN  \n",
       "4       NaN  \n",
       "5       NaN  \n",
       "6       NaN  \n",
       "7       NaN  \n",
       "8       NaN  \n",
       "9       NaN  "
      ]
     },
     "execution_count": 35,
     "metadata": {},
     "output_type": "execute_result"
    }
   ],
   "source": [
    "swipes = pd.read_csv(path + 'surgeapp_swipes.raw.csv')\n",
    "swipes.head(10)"
   ]
  },
  {
   "cell_type": "code",
   "execution_count": 36,
   "metadata": {},
   "outputs": [
    {
     "data": {
      "text/html": [
       "<div>\n",
       "<style>\n",
       "    .dataframe thead tr:only-child th {\n",
       "        text-align: right;\n",
       "    }\n",
       "\n",
       "    .dataframe thead th {\n",
       "        text-align: left;\n",
       "    }\n",
       "\n",
       "    .dataframe tbody tr th {\n",
       "        vertical-align: top;\n",
       "    }\n",
       "</style>\n",
       "<table border=\"1\" class=\"dataframe\">\n",
       "  <thead>\n",
       "    <tr style=\"text-align: right;\">\n",
       "      <th></th>\n",
       "      <th>index</th>\n",
       "      <th>id</th>\n",
       "      <th>email</th>\n",
       "      <th>fb_id</th>\n",
       "      <th>locale</th>\n",
       "      <th>device</th>\n",
       "      <th>email_provider</th>\n",
       "      <th>has_fb_id</th>\n",
       "      <th>lang</th>\n",
       "      <th>country</th>\n",
       "    </tr>\n",
       "  </thead>\n",
       "  <tbody>\n",
       "    <tr>\n",
       "      <th>0</th>\n",
       "      <td>0</td>\n",
       "      <td>54362</td>\n",
       "      <td>chappyboy01@gmail.com</td>\n",
       "      <td>1.000018e+14</td>\n",
       "      <td>en_US</td>\n",
       "      <td>unknown</td>\n",
       "      <td>gmail</td>\n",
       "      <td>False</td>\n",
       "      <td>en</td>\n",
       "      <td>US</td>\n",
       "    </tr>\n",
       "    <tr>\n",
       "      <th>1</th>\n",
       "      <td>1</td>\n",
       "      <td>73244</td>\n",
       "      <td>Decemeth@gmail.com</td>\n",
       "      <td>NaN</td>\n",
       "      <td>en_US</td>\n",
       "      <td>unknown</td>\n",
       "      <td>gmail</td>\n",
       "      <td>True</td>\n",
       "      <td>en</td>\n",
       "      <td>US</td>\n",
       "    </tr>\n",
       "    <tr>\n",
       "      <th>2</th>\n",
       "      <td>2</td>\n",
       "      <td>76839</td>\n",
       "      <td>kenyatta251979@yahoo.com</td>\n",
       "      <td>1.000052e+14</td>\n",
       "      <td>en_US</td>\n",
       "      <td>unknown</td>\n",
       "      <td>yahoo</td>\n",
       "      <td>False</td>\n",
       "      <td>en</td>\n",
       "      <td>US</td>\n",
       "    </tr>\n",
       "    <tr>\n",
       "      <th>3</th>\n",
       "      <td>3</td>\n",
       "      <td>92132</td>\n",
       "      <td>chaltom@mac.com</td>\n",
       "      <td>1.015264e+16</td>\n",
       "      <td>en_US</td>\n",
       "      <td>unknown</td>\n",
       "      <td>other</td>\n",
       "      <td>False</td>\n",
       "      <td>en</td>\n",
       "      <td>US</td>\n",
       "    </tr>\n",
       "    <tr>\n",
       "      <th>4</th>\n",
       "      <td>4</td>\n",
       "      <td>92220</td>\n",
       "      <td>losifranco@gmail.com</td>\n",
       "      <td>NaN</td>\n",
       "      <td>en_US</td>\n",
       "      <td>unknown</td>\n",
       "      <td>gmail</td>\n",
       "      <td>True</td>\n",
       "      <td>en</td>\n",
       "      <td>US</td>\n",
       "    </tr>\n",
       "    <tr>\n",
       "      <th>5</th>\n",
       "      <td>5</td>\n",
       "      <td>93194</td>\n",
       "      <td>coloursofsymphony@yahoo.com</td>\n",
       "      <td>NaN</td>\n",
       "      <td>en_US</td>\n",
       "      <td>unknown</td>\n",
       "      <td>yahoo</td>\n",
       "      <td>True</td>\n",
       "      <td>en</td>\n",
       "      <td>US</td>\n",
       "    </tr>\n",
       "    <tr>\n",
       "      <th>6</th>\n",
       "      <td>6</td>\n",
       "      <td>93760</td>\n",
       "      <td>wctopel@gmail.com</td>\n",
       "      <td>1.020730e+16</td>\n",
       "      <td>en_US</td>\n",
       "      <td>unknown</td>\n",
       "      <td>gmail</td>\n",
       "      <td>False</td>\n",
       "      <td>en</td>\n",
       "      <td>US</td>\n",
       "    </tr>\n",
       "    <tr>\n",
       "      <th>7</th>\n",
       "      <td>7</td>\n",
       "      <td>94416</td>\n",
       "      <td>gamnyc@me.com</td>\n",
       "      <td>NaN</td>\n",
       "      <td>en_US</td>\n",
       "      <td>unknown</td>\n",
       "      <td>other</td>\n",
       "      <td>True</td>\n",
       "      <td>en</td>\n",
       "      <td>US</td>\n",
       "    </tr>\n",
       "    <tr>\n",
       "      <th>8</th>\n",
       "      <td>8</td>\n",
       "      <td>95093</td>\n",
       "      <td>vincent112345@hotmail.com</td>\n",
       "      <td>1.015297e+16</td>\n",
       "      <td>en_US</td>\n",
       "      <td>unknown</td>\n",
       "      <td>hotmail</td>\n",
       "      <td>False</td>\n",
       "      <td>en</td>\n",
       "      <td>US</td>\n",
       "    </tr>\n",
       "    <tr>\n",
       "      <th>9</th>\n",
       "      <td>9</td>\n",
       "      <td>96987</td>\n",
       "      <td>ameerkhan4277@gmail.com</td>\n",
       "      <td>7.072415e+14</td>\n",
       "      <td>en_US</td>\n",
       "      <td>unknown</td>\n",
       "      <td>gmail</td>\n",
       "      <td>False</td>\n",
       "      <td>en</td>\n",
       "      <td>US</td>\n",
       "    </tr>\n",
       "  </tbody>\n",
       "</table>\n",
       "</div>"
      ],
      "text/plain": [
       "   index     id                        email         fb_id locale   device  \\\n",
       "0      0  54362        chappyboy01@gmail.com  1.000018e+14  en_US  unknown   \n",
       "1      1  73244           Decemeth@gmail.com           NaN  en_US  unknown   \n",
       "2      2  76839     kenyatta251979@yahoo.com  1.000052e+14  en_US  unknown   \n",
       "3      3  92132              chaltom@mac.com  1.015264e+16  en_US  unknown   \n",
       "4      4  92220         losifranco@gmail.com           NaN  en_US  unknown   \n",
       "5      5  93194  coloursofsymphony@yahoo.com           NaN  en_US  unknown   \n",
       "6      6  93760            wctopel@gmail.com  1.020730e+16  en_US  unknown   \n",
       "7      7  94416                gamnyc@me.com           NaN  en_US  unknown   \n",
       "8      8  95093    vincent112345@hotmail.com  1.015297e+16  en_US  unknown   \n",
       "9      9  96987      ameerkhan4277@gmail.com  7.072415e+14  en_US  unknown   \n",
       "\n",
       "  email_provider  has_fb_id lang country  \n",
       "0          gmail      False   en      US  \n",
       "1          gmail       True   en      US  \n",
       "2          yahoo      False   en      US  \n",
       "3          other      False   en      US  \n",
       "4          gmail       True   en      US  \n",
       "5          yahoo       True   en      US  \n",
       "6          gmail      False   en      US  \n",
       "7          other       True   en      US  \n",
       "8        hotmail      False   en      US  \n",
       "9          gmail      False   en      US  "
      ]
     },
     "execution_count": 36,
     "metadata": {},
     "output_type": "execute_result"
    }
   ],
   "source": [
    "# We need to re-index, the COO-matrix can't use the raw account_ids because it creates NxM based on the maximum value\n",
    "# for each dimension.\n",
    "accounts = pd.read_csv(path + 'surgeapp_accounts.csv')\n",
    "accounts.reset_index(inplace=True)\n",
    "accounts.head(10)"
   ]
  },
  {
   "cell_type": "code",
   "execution_count": 37,
   "metadata": {},
   "outputs": [
    {
     "data": {
      "text/html": [
       "<div>\n",
       "<style>\n",
       "    .dataframe thead tr:only-child th {\n",
       "        text-align: right;\n",
       "    }\n",
       "\n",
       "    .dataframe thead th {\n",
       "        text-align: left;\n",
       "    }\n",
       "\n",
       "    .dataframe tbody tr th {\n",
       "        vertical-align: top;\n",
       "    }\n",
       "</style>\n",
       "<table border=\"1\" class=\"dataframe\">\n",
       "  <thead>\n",
       "    <tr style=\"text-align: right;\">\n",
       "      <th></th>\n",
       "      <th>from_id</th>\n",
       "      <th>from_account_id</th>\n",
       "      <th>to_id</th>\n",
       "      <th>to_account_id</th>\n",
       "      <th>liked</th>\n",
       "      <th>superlike</th>\n",
       "    </tr>\n",
       "  </thead>\n",
       "  <tbody>\n",
       "    <tr>\n",
       "      <th>0</th>\n",
       "      <td>266</td>\n",
       "      <td>239191</td>\n",
       "      <td>1485</td>\n",
       "      <td>2243372</td>\n",
       "      <td>t</td>\n",
       "      <td>f</td>\n",
       "    </tr>\n",
       "    <tr>\n",
       "      <th>1</th>\n",
       "      <td>2130</td>\n",
       "      <td>2602100</td>\n",
       "      <td>1485</td>\n",
       "      <td>2243372</td>\n",
       "      <td>t</td>\n",
       "      <td>f</td>\n",
       "    </tr>\n",
       "    <tr>\n",
       "      <th>2</th>\n",
       "      <td>1305</td>\n",
       "      <td>2082098</td>\n",
       "      <td>1485</td>\n",
       "      <td>2243372</td>\n",
       "      <td>f</td>\n",
       "      <td>f</td>\n",
       "    </tr>\n",
       "    <tr>\n",
       "      <th>3</th>\n",
       "      <td>354</td>\n",
       "      <td>294483</td>\n",
       "      <td>1485</td>\n",
       "      <td>2243372</td>\n",
       "      <td>t</td>\n",
       "      <td>f</td>\n",
       "    </tr>\n",
       "    <tr>\n",
       "      <th>4</th>\n",
       "      <td>59</td>\n",
       "      <td>124990</td>\n",
       "      <td>1485</td>\n",
       "      <td>2243372</td>\n",
       "      <td>f</td>\n",
       "      <td>f</td>\n",
       "    </tr>\n",
       "    <tr>\n",
       "      <th>5</th>\n",
       "      <td>5471</td>\n",
       "      <td>3228297</td>\n",
       "      <td>1485</td>\n",
       "      <td>2243372</td>\n",
       "      <td>f</td>\n",
       "      <td>f</td>\n",
       "    </tr>\n",
       "    <tr>\n",
       "      <th>6</th>\n",
       "      <td>1856</td>\n",
       "      <td>2465892</td>\n",
       "      <td>1485</td>\n",
       "      <td>2243372</td>\n",
       "      <td>t</td>\n",
       "      <td>f</td>\n",
       "    </tr>\n",
       "    <tr>\n",
       "      <th>7</th>\n",
       "      <td>1395</td>\n",
       "      <td>2171011</td>\n",
       "      <td>1485</td>\n",
       "      <td>2243372</td>\n",
       "      <td>t</td>\n",
       "      <td>f</td>\n",
       "    </tr>\n",
       "    <tr>\n",
       "      <th>8</th>\n",
       "      <td>2063</td>\n",
       "      <td>2575257</td>\n",
       "      <td>1485</td>\n",
       "      <td>2243372</td>\n",
       "      <td>t</td>\n",
       "      <td>f</td>\n",
       "    </tr>\n",
       "    <tr>\n",
       "      <th>9</th>\n",
       "      <td>635</td>\n",
       "      <td>493269</td>\n",
       "      <td>1485</td>\n",
       "      <td>2243372</td>\n",
       "      <td>t</td>\n",
       "      <td>f</td>\n",
       "    </tr>\n",
       "  </tbody>\n",
       "</table>\n",
       "</div>"
      ],
      "text/plain": [
       "   from_id  from_account_id  to_id  to_account_id liked superlike\n",
       "0      266           239191   1485        2243372     t         f\n",
       "1     2130          2602100   1485        2243372     t         f\n",
       "2     1305          2082098   1485        2243372     f         f\n",
       "3      354           294483   1485        2243372     t         f\n",
       "4       59           124990   1485        2243372     f         f\n",
       "5     5471          3228297   1485        2243372     f         f\n",
       "6     1856          2465892   1485        2243372     t         f\n",
       "7     1395          2171011   1485        2243372     t         f\n",
       "8     2063          2575257   1485        2243372     t         f\n",
       "9      635           493269   1485        2243372     t         f"
      ]
     },
     "execution_count": 37,
     "metadata": {},
     "output_type": "execute_result"
    }
   ],
   "source": [
    "lookup = accounts[['index', 'id']]\n",
    "swipes = pd.merge(swipes, lookup, left_on='from_account_id', right_on='id') \\\n",
    "    .rename(columns={'index':'from_id'})\n",
    "swipes = pd.merge(swipes, lookup, left_on='to_account_id', right_on='id') \\\n",
    "    .rename(columns={'index':'to_id'})\n",
    "swipes = swipes[['from_id', 'from_account_id', 'to_id', 'to_account_id', 'liked', 'superlike']]\n",
    "swipes.head(10)"
   ]
  },
  {
   "cell_type": "code",
   "execution_count": 38,
   "metadata": {},
   "outputs": [
    {
     "name": "stdout",
     "output_type": "stream",
     "text": [
      "(5739794, 6)\n",
      "(7006, 6)\n",
      "(1241553, 6)\n"
     ]
    }
   ],
   "source": [
    "print(swipes.shape)\n",
    "print(swipes[swipes.superlike == 't'].shape)\n",
    "print(swipes[swipes.liked == 't'].shape)"
   ]
  },
  {
   "cell_type": "code",
   "execution_count": 39,
   "metadata": {},
   "outputs": [
    {
     "data": {
      "text/plain": [
       "0"
      ]
     },
     "execution_count": 39,
     "metadata": {},
     "output_type": "execute_result"
    }
   ],
   "source": [
    "# Let's examine the dataset and see if the recycle creates a duplicate record, if so, we'll take the most recent\n",
    "gb = swipes[['from_id', 'to_id', 'liked']].groupby(['from_id', 'to_id']).count() \\\n",
    "    .reset_index().rename(columns={'liked': 'c'})\n",
    "gb[gb.c > 1].shape[0]"
   ]
  },
  {
   "cell_type": "code",
   "execution_count": 40,
   "metadata": {},
   "outputs": [
    {
     "data": {
      "text/html": [
       "<div>\n",
       "<style>\n",
       "    .dataframe thead tr:only-child th {\n",
       "        text-align: right;\n",
       "    }\n",
       "\n",
       "    .dataframe thead th {\n",
       "        text-align: left;\n",
       "    }\n",
       "\n",
       "    .dataframe tbody tr th {\n",
       "        vertical-align: top;\n",
       "    }\n",
       "</style>\n",
       "<table border=\"1\" class=\"dataframe\">\n",
       "  <thead>\n",
       "    <tr style=\"text-align: right;\">\n",
       "      <th></th>\n",
       "      <th>from_id</th>\n",
       "      <th>from_account_id</th>\n",
       "      <th>to_id</th>\n",
       "      <th>to_account_id</th>\n",
       "      <th>liked</th>\n",
       "      <th>superlike</th>\n",
       "    </tr>\n",
       "  </thead>\n",
       "  <tbody>\n",
       "    <tr>\n",
       "      <th>128</th>\n",
       "      <td>1187</td>\n",
       "      <td>1071004</td>\n",
       "      <td>1485</td>\n",
       "      <td>2243372</td>\n",
       "      <td>t</td>\n",
       "      <td>t</td>\n",
       "    </tr>\n",
       "    <tr>\n",
       "      <th>154</th>\n",
       "      <td>1613</td>\n",
       "      <td>2337129</td>\n",
       "      <td>1485</td>\n",
       "      <td>2243372</td>\n",
       "      <td>t</td>\n",
       "      <td>t</td>\n",
       "    </tr>\n",
       "    <tr>\n",
       "      <th>506</th>\n",
       "      <td>42</td>\n",
       "      <td>117554</td>\n",
       "      <td>1485</td>\n",
       "      <td>2243372</td>\n",
       "      <td>t</td>\n",
       "      <td>t</td>\n",
       "    </tr>\n",
       "    <tr>\n",
       "      <th>547</th>\n",
       "      <td>1869</td>\n",
       "      <td>2475581</td>\n",
       "      <td>1485</td>\n",
       "      <td>2243372</td>\n",
       "      <td>t</td>\n",
       "      <td>t</td>\n",
       "    </tr>\n",
       "    <tr>\n",
       "      <th>553</th>\n",
       "      <td>525</td>\n",
       "      <td>417635</td>\n",
       "      <td>1485</td>\n",
       "      <td>2243372</td>\n",
       "      <td>t</td>\n",
       "      <td>t</td>\n",
       "    </tr>\n",
       "  </tbody>\n",
       "</table>\n",
       "</div>"
      ],
      "text/plain": [
       "     from_id  from_account_id  to_id  to_account_id liked superlike\n",
       "128     1187          1071004   1485        2243372     t         t\n",
       "154     1613          2337129   1485        2243372     t         t\n",
       "506       42           117554   1485        2243372     t         t\n",
       "547     1869          2475581   1485        2243372     t         t\n",
       "553      525           417635   1485        2243372     t         t"
      ]
     },
     "execution_count": 40,
     "metadata": {},
     "output_type": "execute_result"
    }
   ],
   "source": [
    "swipes[(swipes.liked == 't') & (swipes.superlike == 't')].head()"
   ]
  },
  {
   "cell_type": "code",
   "execution_count": 41,
   "metadata": {
    "collapsed": true
   },
   "outputs": [],
   "source": [
    "# Ok, so let's assign inferred scores based on how the swipe went. If the swipe was a like, we'll call that 1 point. If\n",
    "# the swipe was a super like, that should be considerably more (maybe 5?). However, \n",
    "# If the swipe was recycled that means it could either be a correction of a mistake, or a \"ehhh I'll take another look\"\n",
    "# We can't really identify the two easily, so perhaps we'll just ignore recycled for now.\n",
    "# If the swipe was a pass, that's a negative signal so we'll set that score to -1\n",
    "swipes['score'] = 0\n",
    "swipes.loc[swipes.liked == 't', 'score'] = 1"
   ]
  },
  {
   "cell_type": "code",
   "execution_count": 42,
   "metadata": {},
   "outputs": [
    {
     "name": "stdout",
     "output_type": "stream",
     "text": [
      "   from_id  from_account_id  to_id  to_account_id liked superlike  score\n",
      "0      266           239191   1485        2243372     t         f      1\n",
      "1     2130          2602100   1485        2243372     t         f      1\n",
      "2     1305          2082098   1485        2243372     f         f      0\n",
      "3      354           294483   1485        2243372     t         f      1\n",
      "4       59           124990   1485        2243372     f         f      0\n",
      "5     5471          3228297   1485        2243372     f         f      0\n",
      "6     1856          2465892   1485        2243372     t         f      1\n",
      "7     1395          2171011   1485        2243372     t         f      1\n",
      "8     2063          2575257   1485        2243372     t         f      1\n",
      "9      635           493269   1485        2243372     t         f      1\n",
      "5677\n",
      "5896\n"
     ]
    }
   ],
   "source": [
    "print(swipes.head(10))\n",
    "print(len(swipes.from_id.unique()))\n",
    "print(len(swipes.to_id.unique()))"
   ]
  },
  {
   "cell_type": "code",
   "execution_count": 43,
   "metadata": {},
   "outputs": [
    {
     "data": {
      "text/plain": [
       "<6550x6550 sparse matrix of type '<class 'numpy.int64'>'\n",
       "\twith 5739794 stored elements in COOrdinate format>"
      ]
     },
     "execution_count": 43,
     "metadata": {},
     "output_type": "execute_result"
    }
   ],
   "source": [
    "swipes_mtx = sparse.coo_matrix((swipes.score, (swipes.from_id, swipes.to_id)))\n",
    "swipes_mtx"
   ]
  },
  {
   "cell_type": "code",
   "execution_count": 44,
   "metadata": {
    "collapsed": true
   },
   "outputs": [],
   "source": [
    "from scipy.sparse import coo_matrix\n",
    "import random\n",
    "\n",
    "train_row = []\n",
    "train_col = []\n",
    "train_dat = []\n",
    "test_row = []\n",
    "test_col = []\n",
    "test_dat = []\n",
    "for i,j,v in zip(swipes_mtx.row, swipes_mtx.col, swipes_mtx.data):\n",
    "    if np.random.random() < .8:\n",
    "        train_row.append(i)\n",
    "        train_col.append(j)\n",
    "        train_dat.append(v)\n",
    "    else:\n",
    "        test_row.append(i)\n",
    "        test_col.append(j)\n",
    "        test_dat.append(v)"
   ]
  },
  {
   "cell_type": "code",
   "execution_count": 45,
   "metadata": {},
   "outputs": [
    {
     "name": "stdout",
     "output_type": "stream",
     "text": [
      "6549\n",
      "6549\n"
     ]
    }
   ],
   "source": [
    "print(np.asarray(train_row).max())\n",
    "print(np.asarray(train_col).max())\n",
    "train_mtx = coo_matrix((train_dat, (train_row, train_col)))\n",
    "test_mtx = coo_matrix((test_dat, (test_row, test_col)))"
   ]
  },
  {
   "cell_type": "code",
   "execution_count": 46,
   "metadata": {},
   "outputs": [
    {
     "data": {
      "text/plain": [
       "<6550x6550 sparse matrix of type '<class 'numpy.int64'>'\n",
       "\twith 4592439 stored elements in COOrdinate format>"
      ]
     },
     "execution_count": 46,
     "metadata": {},
     "output_type": "execute_result"
    }
   ],
   "source": [
    "train_mtx"
   ]
  },
  {
   "cell_type": "code",
   "execution_count": 47,
   "metadata": {},
   "outputs": [
    {
     "data": {
      "text/plain": [
       "<6550x6550 sparse matrix of type '<class 'numpy.int64'>'\n",
       "\twith 1147355 stored elements in COOrdinate format>"
      ]
     },
     "execution_count": 47,
     "metadata": {},
     "output_type": "execute_result"
    }
   ],
   "source": [
    "test_mtx"
   ]
  },
  {
   "cell_type": "code",
   "execution_count": 114,
   "metadata": {},
   "outputs": [
    {
     "name": "stdout",
     "output_type": "stream",
     "text": [
      "Iteration No: 1 started. Evaluating function at random point.\n",
      "[8, 1, 0.077871665644836344, 47, 13]\n",
      "Iteration No: 1 ended. Evaluation done at random point.\n",
      "Time taken: 12.6982\n",
      "Function value obtained: -0.4708\n",
      "Current minimum: -0.4708\n",
      "Iteration No: 2 started. Evaluating function at random point.\n",
      "[7, 0, 0.093423431303263693, 12, 20]\n",
      "Iteration No: 2 ended. Evaluation done at random point.\n",
      "Time taken: 8.8537\n",
      "Function value obtained: -0.4543\n",
      "Current minimum: -0.4708\n",
      "Iteration No: 3 started. Evaluating function at random point.\n",
      "[5, 0, 0.027001462067020015, 89, 8]\n",
      "Iteration No: 3 ended. Evaluation done at random point.\n",
      "Time taken: 9.7892\n",
      "Function value obtained: -0.4458\n",
      "Current minimum: -0.4708\n",
      "Iteration No: 4 started. Evaluating function at random point.\n",
      "[6, 0, 0.015722863781120203, 63, 8]\n",
      "Iteration No: 4 ended. Evaluation done at random point.\n",
      "Time taken: 10.6982\n",
      "Function value obtained: -0.4281\n",
      "Current minimum: -0.4708\n",
      "Iteration No: 5 started. Evaluating function at random point.\n",
      "[7, 1, 0.070198278389383903, 87, 20]\n",
      "Iteration No: 5 ended. Evaluation done at random point.\n",
      "Time taken: 17.2223\n",
      "Function value obtained: -0.4605\n",
      "Current minimum: -0.4708\n",
      "Iteration No: 6 started. Evaluating function at random point.\n",
      "[8, 1, 0.040034570279750541, 48, 17]\n",
      "Iteration No: 6 ended. Evaluation done at random point.\n",
      "Time taken: 14.2189\n",
      "Function value obtained: -0.4671\n",
      "Current minimum: -0.4708\n",
      "Iteration No: 7 started. Evaluating function at random point.\n",
      "[5, 0, 0.016762010989022358, 14, 15]\n",
      "Iteration No: 7 ended. Evaluation done at random point.\n",
      "Time taken: 7.6756\n",
      "Function value obtained: -0.4071\n",
      "Current minimum: -0.4708\n",
      "Iteration No: 8 started. Evaluating function at random point.\n",
      "[5, 0, 0.067946440647647932, 66, 11]\n",
      "Iteration No: 8 ended. Evaluation done at random point.\n",
      "Time taken: 9.1418\n",
      "Function value obtained: -0.4622\n",
      "Current minimum: -0.4708\n",
      "Iteration No: 9 started. Evaluating function at random point.\n",
      "[6, 0, 0.070969954356347939, 70, 8]\n",
      "Iteration No: 9 ended. Evaluation done at random point.\n",
      "Time taken: 9.8817\n",
      "Function value obtained: -0.4620\n",
      "Current minimum: -0.4708\n",
      "Iteration No: 10 started. Evaluating function at random point.\n",
      "[5, 1, 0.063081879353428877, 100, 18]\n",
      "Iteration No: 10 ended. Evaluation done at random point.\n",
      "Time taken: 13.4034\n",
      "Function value obtained: -0.4582\n",
      "Current minimum: -0.4708\n"
     ]
    }
   ],
   "source": [
    "# Let's start with a grid search to try to find the best params for learning\n",
    "def objective(params):\n",
    "    # unpack\n",
    "    epochs, learning_sched, learning_rate, no_components, max_sampled = params\n",
    "    print(params)\n",
    "    \n",
    "    model = LightFM(loss='warp'\n",
    "                    ,random_state=2017\n",
    "                    ,learning_schedule='adagrad' if learning_sched < .5 else 'adadelta'\n",
    "                    ,learning_rate=learning_rate\n",
    "                    ,no_components=no_components\n",
    "                    ,max_sampled=max_sampled)\n",
    "    \n",
    "    model.fit(train_mtx, epochs=epochs, num_threads=8, verbose=False)\n",
    "    \n",
    "    patks = lightfm.evaluation.precision_at_k(model, test_mtx, train_interactions=train_mtx, k=5, num_threads=8)\n",
    "    mapatk = np.mean(patks)\n",
    "    # Make negative because we want to _minimize_ objective\n",
    "    out = -mapatk\n",
    "    # Weird shit going on\n",
    "    if np.abs(out + 1) < 0.01 or out < -1.0:\n",
    "        return 0.0\n",
    "    else:\n",
    "        return out\n",
    "\n",
    "space = [(5, 8),      # epochs\n",
    "         (0, 1),       # learning_rate_schedule\n",
    "         (0.005, 0.1), # initial learning rate for adagrad\n",
    "         (5, 100),     # no_components\n",
    "         (5, 20)       # max_sampled\n",
    "        ]\n",
    "\n",
    "from skopt import forest_minimize\n",
    "res_fm = forest_minimize(objective\n",
    "                         ,space\n",
    "                         ,n_calls=10\n",
    "                         ,random_state=2017\n",
    "                         ,verbose=True\n",
    "                         )"
   ]
  },
  {
   "cell_type": "code",
   "execution_count": 115,
   "metadata": {},
   "outputs": [
    {
     "data": {
      "text/plain": [
       "          fun: -0.4708041\n",
       "    func_vals: array([-0.4708041 , -0.45432633, -0.44579959, -0.42813456, -0.46047851,\n",
       "       -0.46713439, -0.40705159, -0.46224144, -0.46195358, -0.45817593], dtype=float32)\n",
       "       models: []\n",
       " random_state: <mtrand.RandomState object at 0x1962098b8>\n",
       "        space: Space([Integer(low=5, high=8),\n",
       "       Integer(low=0, high=1),\n",
       "       Real(low=0.005, high=0.1, prior=uniform, transform=identity),\n",
       "       Integer(low=5, high=100),\n",
       "       Integer(low=5, high=20)])\n",
       "        specs: {'args': {'callback': None, 'verbose': True, 'acq_optimizer': 'sampling', 'n_points': 10000, 'dimensions': [(5, 8), (0, 1), (0.005, 0.1), (5, 100), (5, 20)], 'base_estimator': ExtraTreesRegressor(bootstrap=False, criterion='mse', max_depth=None,\n",
       "          max_features='auto', max_leaf_nodes=None, min_samples_leaf=3,\n",
       "          min_samples_split=2, min_variance=0.0,\n",
       "          min_weight_fraction_leaf=0.0, n_estimators=100, n_jobs=1,\n",
       "          oob_score=False,\n",
       "          random_state=<mtrand.RandomState object at 0x1962099d8>,\n",
       "          verbose=0, warm_start=False), 'n_restarts_optimizer': 5, 'func': <function objective at 0x19592f730>, 'n_random_starts': 10, 'kappa': 1.96, 'random_state': 2017, 'acq_func': 'EI', 'xi': 0.01, 'x0': None, 'y0': None, 'n_jobs': 1, 'n_calls': 10}, 'function': 'base_minimize'}\n",
       "            x: [8, 1, 0.077871665644836344, 47, 13]\n",
       "      x_iters: [[8, 1, 0.077871665644836344, 47, 13], [7, 0, 0.093423431303263693, 12, 20], [5, 0, 0.027001462067020015, 89, 8], [6, 0, 0.015722863781120203, 63, 8], [7, 1, 0.070198278389383903, 87, 20], [8, 1, 0.040034570279750541, 48, 17], [5, 0, 0.016762010989022358, 14, 15], [5, 0, 0.067946440647647932, 66, 11], [6, 0, 0.070969954356347939, 70, 8], [5, 1, 0.063081879353428877, 100, 18]]"
      ]
     },
     "execution_count": 115,
     "metadata": {},
     "output_type": "execute_result"
    }
   ],
   "source": [
    "res_fm"
   ]
  },
  {
   "cell_type": "code",
   "execution_count": 104,
   "metadata": {},
   "outputs": [
    {
     "name": "stdout",
     "output_type": "stream",
     "text": [
      "Maximimum p@k found: 0.48851\n",
      "Optimal parameters:\n",
      "epochs: 77\n",
      "learning_schedule: 0\n",
      "learning_rate: 0.027001462067020015\n",
      "no_components: 89\n",
      "max_sampled: 8\n"
     ]
    }
   ],
   "source": [
    "# Print the best configuration\n",
    "print('Maximimum p@k found: {:6.5f}'.format(-res_fm.fun))\n",
    "print('Optimal parameters:')\n",
    "params = ['epochs', 'learning_schedule', 'learning_rate', 'no_components', 'max_sampled']\n",
    "# Learning Schedule = 'adagrad' if learning_sched < .5 else 'adadelta'\n",
    "for (p, x_) in zip(params, res_fm.x):\n",
    "    print('{}: {}'.format(p, x_))"
   ]
  },
  {
   "cell_type": "code",
   "execution_count": 105,
   "metadata": {},
   "outputs": [
    {
     "data": {
      "text/html": [
       "<div>\n",
       "<style>\n",
       "    .dataframe thead tr:only-child th {\n",
       "        text-align: right;\n",
       "    }\n",
       "\n",
       "    .dataframe thead th {\n",
       "        text-align: left;\n",
       "    }\n",
       "\n",
       "    .dataframe tbody tr th {\n",
       "        vertical-align: top;\n",
       "    }\n",
       "</style>\n",
       "<table border=\"1\" class=\"dataframe\">\n",
       "  <thead>\n",
       "    <tr style=\"text-align: right;\">\n",
       "      <th></th>\n",
       "      <th>value</th>\n",
       "      <th>e</th>\n",
       "      <th>sched</th>\n",
       "      <th>rate</th>\n",
       "      <th>comps</th>\n",
       "      <th>samp</th>\n",
       "    </tr>\n",
       "  </thead>\n",
       "  <tbody>\n",
       "    <tr>\n",
       "      <th>2</th>\n",
       "      <td>0.488505</td>\n",
       "      <td>77</td>\n",
       "      <td>0</td>\n",
       "      <td>0.027001</td>\n",
       "      <td>89</td>\n",
       "      <td>8</td>\n",
       "    </tr>\n",
       "    <tr>\n",
       "      <th>1</th>\n",
       "      <td>0.478144</td>\n",
       "      <td>55</td>\n",
       "      <td>0</td>\n",
       "      <td>0.093423</td>\n",
       "      <td>12</td>\n",
       "      <td>20</td>\n",
       "    </tr>\n",
       "    <tr>\n",
       "      <th>7</th>\n",
       "      <td>0.476021</td>\n",
       "      <td>66</td>\n",
       "      <td>0</td>\n",
       "      <td>0.091687</td>\n",
       "      <td>26</td>\n",
       "      <td>6</td>\n",
       "    </tr>\n",
       "    <tr>\n",
       "      <th>8</th>\n",
       "      <td>0.468286</td>\n",
       "      <td>24</td>\n",
       "      <td>0</td>\n",
       "      <td>0.071621</td>\n",
       "      <td>59</td>\n",
       "      <td>20</td>\n",
       "    </tr>\n",
       "    <tr>\n",
       "      <th>0</th>\n",
       "      <td>0.464724</td>\n",
       "      <td>64</td>\n",
       "      <td>1</td>\n",
       "      <td>0.077872</td>\n",
       "      <td>47</td>\n",
       "      <td>13</td>\n",
       "    </tr>\n",
       "    <tr>\n",
       "      <th>6</th>\n",
       "      <td>0.455226</td>\n",
       "      <td>14</td>\n",
       "      <td>0</td>\n",
       "      <td>0.075366</td>\n",
       "      <td>14</td>\n",
       "      <td>5</td>\n",
       "    </tr>\n",
       "    <tr>\n",
       "      <th>3</th>\n",
       "      <td>0.454542</td>\n",
       "      <td>33</td>\n",
       "      <td>0</td>\n",
       "      <td>0.099355</td>\n",
       "      <td>63</td>\n",
       "      <td>8</td>\n",
       "    </tr>\n",
       "    <tr>\n",
       "      <th>5</th>\n",
       "      <td>0.451556</td>\n",
       "      <td>74</td>\n",
       "      <td>1</td>\n",
       "      <td>0.019404</td>\n",
       "      <td>69</td>\n",
       "      <td>19</td>\n",
       "    </tr>\n",
       "    <tr>\n",
       "      <th>4</th>\n",
       "      <td>0.450837</td>\n",
       "      <td>18</td>\n",
       "      <td>1</td>\n",
       "      <td>0.064935</td>\n",
       "      <td>100</td>\n",
       "      <td>8</td>\n",
       "    </tr>\n",
       "    <tr>\n",
       "      <th>9</th>\n",
       "      <td>0.431301</td>\n",
       "      <td>65</td>\n",
       "      <td>1</td>\n",
       "      <td>0.042736</td>\n",
       "      <td>5</td>\n",
       "      <td>13</td>\n",
       "    </tr>\n",
       "  </tbody>\n",
       "</table>\n",
       "</div>"
      ],
      "text/plain": [
       "      value   e sched      rate comps samp\n",
       "2  0.488505  77     0  0.027001    89    8\n",
       "1  0.478144  55     0  0.093423    12   20\n",
       "7  0.476021  66     0  0.091687    26    6\n",
       "8  0.468286  24     0  0.071621    59   20\n",
       "0  0.464724  64     1  0.077872    47   13\n",
       "6  0.455226  14     0  0.075366    14    5\n",
       "3  0.454542  33     0  0.099355    63    8\n",
       "5  0.451556  74     1  0.019404    69   19\n",
       "4  0.450837  18     1  0.064935   100    8\n",
       "9  0.431301  65     1  0.042736     5   13"
      ]
     },
     "execution_count": 105,
     "metadata": {},
     "output_type": "execute_result"
    }
   ],
   "source": [
    "# Build a dataframe out of all of the results\n",
    "cols = ['value', 'e', 'sched', 'rate', 'comps', 'samp']\n",
    "itersdf = pd.DataFrame(columns=cols)\n",
    "for val, x in zip(res_fm.func_vals, res_fm.x_iters):\n",
    "    row = [-val]\n",
    "    for (p, x_) in zip(params, x):\n",
    "        row += [x_]\n",
    "    itersdf = itersdf.append(pd.DataFrame([row], columns=cols), ignore_index=True)\n",
    "\n",
    "itersdf = itersdf.sort_values('value', ascending=False)\n",
    "itersdf"
   ]
  },
  {
   "cell_type": "code",
   "execution_count": 109,
   "metadata": {},
   "outputs": [
    {
     "data": {
      "image/png": "[encoded data removed]",
      "text/plain": [
       "<matplotlib.figure.Figure at 0x17bfd1160>"
      ]
     },
     "metadata": {},
     "output_type": "display_data"
    }
   ],
   "source": [
    "# Let's try some visualizations from skopt...\n",
    "%matplotlib inline\n",
    "import matplotlib.pyplot as plt\n",
    "from skopt.plots import plot_evaluations, plot_objective\n",
    "_ = plot_evaluations(res_fm)"
   ]
  },
  {
   "cell_type": "code",
   "execution_count": 113,
   "metadata": {},
   "outputs": [
    {
     "name": "stdout",
     "output_type": "stream",
     "text": [
      "0\n",
      "          fun: -0.48850515\n",
      "    func_vals: array([-0.46472386, -0.47814354, -0.48850515, -0.45454216, -0.45083651,\n",
      "       -0.45155606, -0.45522577, -0.4760209 , -0.46828565, -0.43130061], dtype=float32)\n",
      "       models: []\n",
      " random_state: <mtrand.RandomState object at 0x1a318b9d8>\n",
      "        space: Space([Integer(low=5, high=80),\n",
      "       Integer(low=0, high=1),\n",
      "       Real(low=0.005, high=0.1, prior=uniform, transform=identity),\n",
      "       Integer(low=5, high=100),\n",
      "       Integer(low=5, high=20)])\n",
      "        specs: {'args': {'callback': None, 'verbose': True, 'acq_optimizer': 'sampling', 'n_points': 10000, 'dimensions': [(5, 80), (0, 1), (0.005, 0.1), (5, 100), (5, 20)], 'base_estimator': ExtraTreesRegressor(bootstrap=False, criterion='mse', max_depth=None,\n",
      "          max_features='auto', max_leaf_nodes=None, min_samples_leaf=3,\n",
      "          min_samples_split=2, min_variance=0.0,\n",
      "          min_weight_fraction_leaf=0.0, n_estimators=100, n_jobs=1,\n",
      "          oob_score=False,\n",
      "          random_state=<mtrand.RandomState object at 0x1a318b5a0>,\n",
      "          verbose=0, warm_start=False), 'n_restarts_optimizer': 5, 'func': <function objective at 0x1a318f378>, 'n_random_starts': 10, 'kappa': 1.96, 'random_state': 2017, 'acq_func': 'EI', 'xi': 0.01, 'x0': None, 'y0': None, 'n_jobs': 1, 'n_calls': 10}, 'function': 'base_minimize'}\n",
      "            x: [77, 0, 0.027001462067020015, 89, 8]\n",
      "      x_iters: [[64, 1, 0.077871665644836344, 47, 13], [55, 0, 0.093423431303263693, 12, 20], [77, 0, 0.027001462067020015, 89, 8], [33, 0, 0.099355444051555983, 63, 8], [18, 1, 0.064934606444685544, 100, 8], [74, 1, 0.019404442744234071, 69, 19], [14, 0, 0.0753660429011421, 14, 5], [66, 0, 0.091686651318149195, 26, 6], [24, 0, 0.07162099363715857, 59, 20], [65, 1, 0.042735962138261765, 5, 13]]\n"
     ]
    },
    {
     "ename": "IndexError",
     "evalue": "list index out of range",
     "output_type": "error",
     "traceback": [
      "\u001b[0;31m---------------------------------------------------------------------------\u001b[0m",
      "\u001b[0;31mIndexError\u001b[0m                                Traceback (most recent call last)",
      "\u001b[0;32m<ipython-input-113-a3f9e36b6f57>\u001b[0m in \u001b[0;36m<module>\u001b[0;34m()\u001b[0m\n\u001b[1;32m      1\u001b[0m \u001b[0mprint\u001b[0m\u001b[0;34m(\u001b[0m\u001b[0mlen\u001b[0m\u001b[0;34m(\u001b[0m\u001b[0mres_fm\u001b[0m\u001b[0;34m.\u001b[0m\u001b[0mmodels\u001b[0m\u001b[0;34m)\u001b[0m\u001b[0;34m)\u001b[0m\u001b[0;34m\u001b[0m\u001b[0m\n\u001b[1;32m      2\u001b[0m \u001b[0mprint\u001b[0m\u001b[0;34m(\u001b[0m\u001b[0mres_fm\u001b[0m\u001b[0;34m)\u001b[0m\u001b[0;34m\u001b[0m\u001b[0m\n\u001b[0;32m----> 3\u001b[0;31m \u001b[0m_\u001b[0m \u001b[0;34m=\u001b[0m \u001b[0mplot_objective\u001b[0m\u001b[0;34m(\u001b[0m\u001b[0mres_fm\u001b[0m\u001b[0;34m,\u001b[0m \u001b[0mn_points\u001b[0m\u001b[0;34m=\u001b[0m\u001b[0;36m10\u001b[0m\u001b[0;34m)\u001b[0m\u001b[0;34m\u001b[0m\u001b[0m\n\u001b[0m\u001b[1;32m      4\u001b[0m \u001b[0;34m\u001b[0m\u001b[0m\n\u001b[1;32m      5\u001b[0m \u001b[0;31m# # Unfortunately there is an issue logged right now for a bug in this plotting functionality. It should look something\u001b[0m\u001b[0;34m\u001b[0m\u001b[0;34m\u001b[0m\u001b[0m\n",
      "\u001b[0;32m/Users/davenovelli/miniconda3/envs/strvworkshop/lib/python3.5/site-packages/skopt/plots.py\u001b[0m in \u001b[0;36mplot_objective\u001b[0;34m(result, levels, n_points, n_samples, zscale)\u001b[0m\n\u001b[1;32m    305\u001b[0m         \u001b[0;32mfor\u001b[0m \u001b[0mj\u001b[0m \u001b[0;32min\u001b[0m \u001b[0mrange\u001b[0m\u001b[0;34m(\u001b[0m\u001b[0mspace\u001b[0m\u001b[0;34m.\u001b[0m\u001b[0mn_dims\u001b[0m\u001b[0;34m)\u001b[0m\u001b[0;34m:\u001b[0m\u001b[0;34m\u001b[0m\u001b[0m\n\u001b[1;32m    306\u001b[0m             \u001b[0;32mif\u001b[0m \u001b[0mi\u001b[0m \u001b[0;34m==\u001b[0m \u001b[0mj\u001b[0m\u001b[0;34m:\u001b[0m\u001b[0;34m\u001b[0m\u001b[0m\n\u001b[0;32m--> 307\u001b[0;31m                 xi, yi = partial_dependence(space, result.models[-1], i,\n\u001b[0m\u001b[1;32m    308\u001b[0m                                             \u001b[0mj\u001b[0m\u001b[0;34m=\u001b[0m\u001b[0;32mNone\u001b[0m\u001b[0;34m,\u001b[0m\u001b[0;34m\u001b[0m\u001b[0m\n\u001b[1;32m    309\u001b[0m                                             \u001b[0msample_points\u001b[0m\u001b[0;34m=\u001b[0m\u001b[0mrvs_transformed\u001b[0m\u001b[0;34m,\u001b[0m\u001b[0;34m\u001b[0m\u001b[0m\n",
      "\u001b[0;31mIndexError\u001b[0m: list index out of range"
     ]
    },
    {
     "data": {
      "image/png": "[encoded data removed]",
      "text/plain": [
       "<matplotlib.figure.Figure at 0x1a37b98d0>"
      ]
     },
     "metadata": {},
     "output_type": "display_data"
    }
   ],
   "source": [
    "print(len(res_fm.models))\n",
    "print(res_fm)\n",
    "_ = plot_objective(res_fm, n_points=10)\n",
    "\n",
    "# # Unfortunately there is an issue logged right now for a bug in this plotting functionality. It should look something\n",
    "# # like this:\n",
    "# from IPython.display import Image\n",
    "# from IPython.core.display import HTML \n",
    "# Image(url= \"https://scikit-optimize.github.io/notebooks/visualizing-results_files/visualizing-results_17_0.png\")"
   ]
  },
  {
   "cell_type": "code",
   "execution_count": 116,
   "metadata": {},
   "outputs": [
    {
     "data": {
      "text/plain": [
       "Space([Integer(low=5, high=8),\n",
       "       Integer(low=0, high=1),\n",
       "       Real(low=0.005, high=0.1, prior=uniform, transform=identity),\n",
       "       Integer(low=5, high=100),\n",
       "       Integer(low=5, high=20)])"
      ]
     },
     "execution_count": 116,
     "metadata": {},
     "output_type": "execute_result"
    }
   ],
   "source": [
    "res_fm.space"
   ]
  },
  {
   "cell_type": "raw",
   "metadata": {},
   "source": []
  },
  {
   "cell_type": "code",
   "execution_count": 91,
   "metadata": {},
   "outputs": [
    {
     "data": {
      "text/html": [
       "<img src=\"https://scikit-optimize.github.io/notebooks/visualizing-results_files/visualizing-results_17_1.png\"/>"
      ],
      "text/plain": [
       "<IPython.core.display.Image object>"
      ]
     },
     "execution_count": 91,
     "metadata": {},
     "output_type": "execute_result"
    }
   ],
   "source": [
    "# And....\n",
    "Image(url= \"https://scikit-optimize.github.io/notebooks/visualizing-results_files/visualizing-results_17_1.png\")"
   ]
  },
  {
   "cell_type": "code",
   "execution_count": 21,
   "metadata": {
    "scrolled": true
   },
   "outputs": [
    {
     "name": "stdout",
     "output_type": "stream",
     "text": [
      "Completed epoch: 1\n",
      "Completed epoch: 6\n",
      "Completed epoch: 11\n",
      "Completed epoch: 16\n",
      "Completed epoch: 21\n",
      "Completed epoch: 26\n"
     ]
    }
   ],
   "source": [
    "# Let's construct some learning curves for AUC and P@k for the model\n",
    "from lightfm import LightFM\n",
    "from lightfm.evaluation import precision_at_k\n",
    "from lightfm.evaluation import auc_score\n",
    "model = lightfm.LightFM(learning_rate=0.05, loss='warp')\n",
    "\n",
    "# Construct \n",
    "EPOCHS = 25\n",
    "train_auc = []\n",
    "test_auc = []\n",
    "train_pak = []\n",
    "test_pak = []\n",
    "\n",
    "# Let's get an initial pass in to see where we're starting\n",
    "model.fit_partial(train_mtx, epochs=1, num_threads=8)\n",
    "train_auc.append(auc_score(model, train_mtx, num_threads=8).mean())\n",
    "test_auc.append(auc_score(model, test_mtx, num_threads=8).mean())\n",
    "train_pak.append(precision_at_k(model, train_mtx, k=20, num_threads=8).mean())\n",
    "test_pak.append(precision_at_k(model, test_mtx, train_interactions=train_mtx, k=20, num_threads=8).mean())\n",
    "print(\"Completed epoch: {}\".format(1))\n",
    "\n",
    "# Now train 5 epochs at a time until we reach the max\n",
    "for i in range(int(EPOCHS/5)):\n",
    "    model.fit_partial(train_mtx, epochs=5, num_threads=8)\n",
    "    train_auc.append(auc_score(model, train_mtx, num_threads=8).mean())\n",
    "    test_auc.append(auc_score(model, test_mtx, train_interactions=train_mtx, num_threads=8).mean())\n",
    "    train_pak.append(precision_at_k(model, train_mtx, k=20, num_threads=8).mean())\n",
    "    test_pak.append(precision_at_k(model, test_mtx, train_interactions=train_mtx, k=20, num_threads=8).mean())\n",
    "    print(\"Completed epoch: {}\".format(1+(i+1)*5))\n"
   ]
  },
  {
   "cell_type": "code",
   "execution_count": 22,
   "metadata": {},
   "outputs": [
    {
     "data": {
      "image/png": "[encoded data removed]",
      "text/plain": [
       "<matplotlib.figure.Figure at 0x190f08f60>"
      ]
     },
     "metadata": {},
     "output_type": "display_data"
    }
   ],
   "source": [
    "# AUC: Probability that a randomly chosen positive example will be ranked higher than a random negative example\n",
    "import matplotlib.pyplot as plt\n",
    "plt.plot(range(1, EPOCHS+2, 5), train_auc, 'b')\n",
    "plt.plot(range(1, EPOCHS+2, 5), test_auc, 'g')\n",
    "plt.ylabel('AUC')\n",
    "plt.xlabel('Epoch #')\n",
    "plt.show()"
   ]
  },
  {
   "cell_type": "code",
   "execution_count": 23,
   "metadata": {},
   "outputs": [
    {
     "name": "stdout",
     "output_type": "stream",
     "text": [
      "AUC: train 0.86, test 0.87.\n"
     ]
    }
   ],
   "source": [
    "# Let's look at the final numbers...\n",
    "train_auc = auc_score(model, train_mtx, num_threads=8).mean()\n",
    "test_auc = auc_score(model, test_mtx, train_interactions=train_mtx, num_threads=8).mean()\n",
    "print('AUC: train %.2f, test %.2f.' % (train_auc, test_auc))"
   ]
  },
  {
   "cell_type": "code",
   "execution_count": 24,
   "metadata": {},
   "outputs": [
    {
     "data": {
      "image/png": "[encoded data removed]",
      "text/plain": [
       "<matplotlib.figure.Figure at 0x1943370f0>"
      ]
     },
     "metadata": {},
     "output_type": "display_data"
    }
   ],
   "source": [
    "# Precision at k: What proportion of the top k results are positives\n",
    "import matplotlib.pyplot as plt\n",
    "plt.plot(range(1, EPOCHS+2, 5), train_pak, 'b')\n",
    "plt.plot(range(1, EPOCHS+2, 5), test_pak, 'g')\n",
    "plt.ylabel('P@K')\n",
    "plt.xlabel('Epoch #')\n",
    "plt.show()"
   ]
  },
  {
   "cell_type": "code",
   "execution_count": 25,
   "metadata": {},
   "outputs": [
    {
     "name": "stdout",
     "output_type": "stream",
     "text": [
      "Precision: train 0.48, test 0.43.\n"
     ]
    }
   ],
   "source": [
    "# And a look at the exact numbers...\n",
    "train_precision = precision_at_k(model, train_mtx, k=20, num_threads=8).mean()\n",
    "test_precision = precision_at_k(model, test_mtx, train_interactions=train_mtx, k=20, num_threads=8).mean()\n",
    "print('Precision: train %.2f, test %.2f.' % (train_precision, test_precision))"
   ]
  },
  {
   "cell_type": "code",
   "execution_count": null,
   "metadata": {
    "collapsed": true
   },
   "outputs": [],
   "source": []
  },
  {
   "cell_type": "code",
   "execution_count": null,
   "metadata": {
    "collapsed": true
   },
   "outputs": [],
   "source": []
  },
  {
   "cell_type": "code",
   "execution_count": null,
   "metadata": {
    "collapsed": true
   },
   "outputs": [],
   "source": []
  },
  {
   "cell_type": "code",
   "execution_count": null,
   "metadata": {
    "collapsed": true
   },
   "outputs": [],
   "source": []
  },
  {
   "cell_type": "code",
   "execution_count": 26,
   "metadata": {},
   "outputs": [
    {
     "name": "stdout",
     "output_type": "stream",
     "text": [
      "User idx: 3098 ---------------------------------------\n",
      "      rankscore  useridx\n",
      "1485   1.794739     1485\n",
      "129    1.749213      129\n",
      "1531   1.745117     1531\n",
      "1331   1.694930     1331\n",
      "612    1.675989      612\n",
      "User idx: 2183 ---------------------------------------\n",
      "      rankscore  useridx\n",
      "2616  -3.021290     2616\n",
      "2854  -3.097040     2854\n",
      "504   -3.113324      504\n",
      "2013  -3.115934     2013\n",
      "2790  -3.118959     2790\n",
      "User idx: 6429 ---------------------------------------\n",
      "      rankscore  useridx\n",
      "1485   1.815559     1485\n",
      "129    1.812505      129\n",
      "1531   1.785729     1531\n",
      "1331   1.715391     1331\n",
      "612    1.694682      612\n",
      "User idx: 5725 ---------------------------------------\n",
      "      rankscore  useridx\n",
      "2616  -0.785647     2616\n",
      "2013  -1.019606     2013\n",
      "4392  -1.023669     4392\n",
      "2604  -1.064297     2604\n",
      "2051  -1.109194     2051\n",
      "User idx: 6226 ---------------------------------------\n",
      "      rankscore  useridx\n",
      "1818  -0.018240     1818\n",
      "3590  -0.267873     3590\n",
      "3518  -0.289015     3518\n",
      "2459  -0.318552     2459\n",
      "4572  -0.376230     4572\n"
     ]
    }
   ],
   "source": [
    "# Let's print out the recommendations for any random 5 users - this is essentially a sanity check (specifically, we\n",
    "# want to see that each user has different ID's)\n",
    "for i in random.sample(range(1, 6550), 5):\n",
    "    print(\"User idx: {} ---------------------------------------\".format(i))\n",
    "    predictions = model.predict(i, lookup['index'].values, num_threads=8)\n",
    "    preds_df = pd.DataFrame({'useridx': lookup['index'].values, 'rankscore': predictions})\n",
    "    print(preds_df.sort_values('rankscore', ascending=False).head())\n",
    "    rankscore, rankeduser = np.unique(predictions[~np.isnan(predictions)], return_index=True)"
   ]
  },
  {
   "cell_type": "code",
   "execution_count": 27,
   "metadata": {},
   "outputs": [
    {
     "data": {
      "text/html": [
       "<div>\n",
       "<style>\n",
       "    .dataframe thead tr:only-child th {\n",
       "        text-align: right;\n",
       "    }\n",
       "\n",
       "    .dataframe thead th {\n",
       "        text-align: left;\n",
       "    }\n",
       "\n",
       "    .dataframe tbody tr th {\n",
       "        vertical-align: top;\n",
       "    }\n",
       "</style>\n",
       "<table border=\"1\" class=\"dataframe\">\n",
       "  <thead>\n",
       "    <tr style=\"text-align: right;\">\n",
       "      <th></th>\n",
       "      <th>account_id</th>\n",
       "      <th>seen</th>\n",
       "      <th>birthday</th>\n",
       "      <th>height</th>\n",
       "      <th>private_mode</th>\n",
       "      <th>transgender</th>\n",
       "      <th>interests_enabled</th>\n",
       "      <th>photo_verification_status</th>\n",
       "      <th>photo_verification_data</th>\n",
       "      <th>favorite_song</th>\n",
       "      <th>...</th>\n",
       "      <th>lf_relationships</th>\n",
       "      <th>lf_hookup</th>\n",
       "      <th>profile_length</th>\n",
       "      <th>Role_Bottom</th>\n",
       "      <th>Role_Bottom_Versatile</th>\n",
       "      <th>Role_Top</th>\n",
       "      <th>Role_Top_Versatile</th>\n",
       "      <th>Role_Unspecified</th>\n",
       "      <th>Role_Versatile</th>\n",
       "      <th>insta_photos_count</th>\n",
       "    </tr>\n",
       "  </thead>\n",
       "  <tbody>\n",
       "    <tr>\n",
       "      <th>0</th>\n",
       "      <td>2243372</td>\n",
       "      <td>2017-05-25 03:18:43.591272</td>\n",
       "      <td>1993-04-13</td>\n",
       "      <td>185.0</td>\n",
       "      <td>f</td>\n",
       "      <td>NaN</td>\n",
       "      <td>t</td>\n",
       "      <td>approved</td>\n",
       "      <td>{\"id\": 11, \"photo_url\": \"https://lesbianproduc...</td>\n",
       "      <td>NaN</td>\n",
       "      <td>...</td>\n",
       "      <td>False</td>\n",
       "      <td>False</td>\n",
       "      <td>1</td>\n",
       "      <td>0</td>\n",
       "      <td>0</td>\n",
       "      <td>0</td>\n",
       "      <td>0</td>\n",
       "      <td>0</td>\n",
       "      <td>0</td>\n",
       "      <td>0</td>\n",
       "    </tr>\n",
       "    <tr>\n",
       "      <th>1</th>\n",
       "      <td>239191</td>\n",
       "      <td>2017-05-14 00:28:52.848912</td>\n",
       "      <td>1992-04-23</td>\n",
       "      <td>NaN</td>\n",
       "      <td>f</td>\n",
       "      <td>NaN</td>\n",
       "      <td>t</td>\n",
       "      <td>NaN</td>\n",
       "      <td>NaN</td>\n",
       "      <td>NaN</td>\n",
       "      <td>...</td>\n",
       "      <td>False</td>\n",
       "      <td>False</td>\n",
       "      <td>0</td>\n",
       "      <td>0</td>\n",
       "      <td>0</td>\n",
       "      <td>0</td>\n",
       "      <td>0</td>\n",
       "      <td>0</td>\n",
       "      <td>0</td>\n",
       "      <td>0</td>\n",
       "    </tr>\n",
       "    <tr>\n",
       "      <th>2</th>\n",
       "      <td>2987525</td>\n",
       "      <td>2017-01-02 13:52:13.953763</td>\n",
       "      <td>1973-10-14</td>\n",
       "      <td>183.0</td>\n",
       "      <td>f</td>\n",
       "      <td>NaN</td>\n",
       "      <td>t</td>\n",
       "      <td>approved</td>\n",
       "      <td>{\"id\": 6, \"photo_url\": \"https://lesbianproduct...</td>\n",
       "      <td>NaN</td>\n",
       "      <td>...</td>\n",
       "      <td>False</td>\n",
       "      <td>False</td>\n",
       "      <td>0</td>\n",
       "      <td>0</td>\n",
       "      <td>0</td>\n",
       "      <td>0</td>\n",
       "      <td>0</td>\n",
       "      <td>0</td>\n",
       "      <td>0</td>\n",
       "      <td>0</td>\n",
       "    </tr>\n",
       "    <tr>\n",
       "      <th>3</th>\n",
       "      <td>2990912</td>\n",
       "      <td>2017-01-01 15:46:04.32968</td>\n",
       "      <td>1978-03-20</td>\n",
       "      <td>187.0</td>\n",
       "      <td>f</td>\n",
       "      <td>NaN</td>\n",
       "      <td>t</td>\n",
       "      <td>NaN</td>\n",
       "      <td>NaN</td>\n",
       "      <td>NaN</td>\n",
       "      <td>...</td>\n",
       "      <td>False</td>\n",
       "      <td>False</td>\n",
       "      <td>0</td>\n",
       "      <td>0</td>\n",
       "      <td>0</td>\n",
       "      <td>0</td>\n",
       "      <td>0</td>\n",
       "      <td>0</td>\n",
       "      <td>0</td>\n",
       "      <td>0</td>\n",
       "    </tr>\n",
       "    <tr>\n",
       "      <th>4</th>\n",
       "      <td>3047908</td>\n",
       "      <td>2017-01-16 16:09:39.478808</td>\n",
       "      <td>1998-09-16</td>\n",
       "      <td>NaN</td>\n",
       "      <td>f</td>\n",
       "      <td>NaN</td>\n",
       "      <td>t</td>\n",
       "      <td>NaN</td>\n",
       "      <td>NaN</td>\n",
       "      <td>NaN</td>\n",
       "      <td>...</td>\n",
       "      <td>False</td>\n",
       "      <td>False</td>\n",
       "      <td>0</td>\n",
       "      <td>0</td>\n",
       "      <td>0</td>\n",
       "      <td>0</td>\n",
       "      <td>0</td>\n",
       "      <td>0</td>\n",
       "      <td>0</td>\n",
       "      <td>0</td>\n",
       "    </tr>\n",
       "  </tbody>\n",
       "</table>\n",
       "<p>5 rows × 37 columns</p>\n",
       "</div>"
      ],
      "text/plain": [
       "   account_id                        seen    birthday  height private_mode  \\\n",
       "0     2243372  2017-05-25 03:18:43.591272  1993-04-13   185.0            f   \n",
       "1      239191  2017-05-14 00:28:52.848912  1992-04-23     NaN            f   \n",
       "2     2987525  2017-01-02 13:52:13.953763  1973-10-14   183.0            f   \n",
       "3     2990912   2017-01-01 15:46:04.32968  1978-03-20   187.0            f   \n",
       "4     3047908  2017-01-16 16:09:39.478808  1998-09-16     NaN            f   \n",
       "\n",
       "  transgender interests_enabled photo_verification_status  \\\n",
       "0         NaN                 t                  approved   \n",
       "1         NaN                 t                       NaN   \n",
       "2         NaN                 t                  approved   \n",
       "3         NaN                 t                       NaN   \n",
       "4         NaN                 t                       NaN   \n",
       "\n",
       "                             photo_verification_data favorite_song  \\\n",
       "0  {\"id\": 11, \"photo_url\": \"https://lesbianproduc...           NaN   \n",
       "1                                                NaN           NaN   \n",
       "2  {\"id\": 6, \"photo_url\": \"https://lesbianproduct...           NaN   \n",
       "3                                                NaN           NaN   \n",
       "4                                                NaN           NaN   \n",
       "\n",
       "          ...         lf_relationships lf_hookup  profile_length Role_Bottom  \\\n",
       "0         ...                    False     False               1           0   \n",
       "1         ...                    False     False               0           0   \n",
       "2         ...                    False     False               0           0   \n",
       "3         ...                    False     False               0           0   \n",
       "4         ...                    False     False               0           0   \n",
       "\n",
       "  Role_Bottom_Versatile  Role_Top  Role_Top_Versatile  Role_Unspecified  \\\n",
       "0                     0         0                   0                 0   \n",
       "1                     0         0                   0                 0   \n",
       "2                     0         0                   0                 0   \n",
       "3                     0         0                   0                 0   \n",
       "4                     0         0                   0                 0   \n",
       "\n",
       "   Role_Versatile  insta_photos_count  \n",
       "0               0                   0  \n",
       "1               0                   0  \n",
       "2               0                   0  \n",
       "3               0                   0  \n",
       "4               0                   0  \n",
       "\n",
       "[5 rows x 37 columns]"
      ]
     },
     "execution_count": 27,
     "metadata": {},
     "output_type": "execute_result"
    }
   ],
   "source": [
    "profiles = pd.read_csv(path + 'surgeapp_profiles.csv')\n",
    "profiles.head()"
   ]
  },
  {
   "cell_type": "code",
   "execution_count": 28,
   "metadata": {},
   "outputs": [
    {
     "name": "stdout",
     "output_type": "stream",
     "text": [
      "<class 'pandas.core.frame.DataFrame'>\n",
      "Int64Index: 6550 entries, 0 to 6549\n",
      "Data columns (total 47 columns):\n",
      "index                            6550 non-null int64\n",
      "id                               6550 non-null int64\n",
      "email                            6550 non-null object\n",
      "fb_id                            2020 non-null float64\n",
      "locale                           6550 non-null object\n",
      "device                           6550 non-null object\n",
      "email_provider                   6550 non-null object\n",
      "has_fb_id                        6550 non-null int64\n",
      "lang                             6550 non-null object\n",
      "country                          6550 non-null object\n",
      "account_id                       6550 non-null int64\n",
      "seen                             6550 non-null object\n",
      "birthday                         6550 non-null object\n",
      "height                           3616 non-null float64\n",
      "private_mode                     6550 non-null int64\n",
      "transgender                      6550 non-null int64\n",
      "interests_enabled                6550 non-null object\n",
      "photo_verification_status        1612 non-null object\n",
      "photo_verification_data          1612 non-null object\n",
      "favorite_song                    336 non-null object\n",
      "hide_distance                    6550 non-null int64\n",
      "hide_age                         6550 non-null int64\n",
      "couple                           6550 non-null int64\n",
      "email_verification_status        674 non-null object\n",
      "bdate                            6550 non-null object\n",
      "age                              6550 non-null int64\n",
      "public_photo_count               6550 non-null int64\n",
      "private_photo_count              6550 non-null int64\n",
      "weightkg                         3255 non-null float64\n",
      "Relationship_Complicated         6550 non-null int64\n",
      "Relationship_InARelationship     6550 non-null int64\n",
      "Relationship_OpenRelationship    6550 non-null int64\n",
      "Relationship_Single              6550 non-null int64\n",
      "lf_chat                          6550 non-null int64\n",
      "lf_dates                         6550 non-null int64\n",
      "lf_friends                       6550 non-null int64\n",
      "lf_networking                    6550 non-null int64\n",
      "lf_relationships                 6550 non-null int64\n",
      "lf_hookup                        6550 non-null int64\n",
      "profile_length                   6550 non-null int64\n",
      "Role_Bottom                      6550 non-null int64\n",
      "Role_Bottom_Versatile            6550 non-null int64\n",
      "Role_Top                         6550 non-null int64\n",
      "Role_Top_Versatile               6550 non-null int64\n",
      "Role_Unspecified                 6550 non-null int64\n",
      "Role_Versatile                   6550 non-null int64\n",
      "insta_photos_count               6550 non-null int64\n",
      "dtypes: float64(3), int64(30), object(14)\n",
      "memory usage: 2.4+ MB\n"
     ]
    }
   ],
   "source": [
    "users = pd.merge(accounts, profiles, left_on='id', right_on='account_id', how='left')\n",
    "users['couple'] = users.couple.map(lambda x: 0 if pd.isnull(x) or x != 't' else 1)\n",
    "users['private_mode'] = users.private_mode.map(lambda x: 0 if pd.isnull(x) or x != 't' else 1)\n",
    "users['transgender'] = users.private_mode.map(lambda x: 0 if pd.isnull(x) or x != 't' else 1)\n",
    "users['hide_age'] = users.hide_age.map(lambda x: 0 if pd.isnull(x) or x != 't' else 1)\n",
    "users['hide_distance'] = users.hide_distance.map(lambda x: 0 if pd.isnull(x) or x != 't' else 1)\n",
    "users['has_fb_id'] = users.has_fb_id.map(int)\n",
    "users['lf_chat'] = users.lf_chat.map(int)\n",
    "users['lf_dates'] = users.lf_dates.map(int)\n",
    "users['lf_friends'] = users.lf_friends.map(int)\n",
    "users['lf_networking'] = users.lf_networking.map(int)\n",
    "users['lf_relationships'] = users.lf_relationships.map(int)\n",
    "users['lf_hookup'] = users.lf_hookup.map(int)\n",
    "users.info()"
   ]
  },
  {
   "cell_type": "code",
   "execution_count": 29,
   "metadata": {},
   "outputs": [
    {
     "name": "stdout",
     "output_type": "stream",
     "text": [
      "<class 'pandas.core.frame.DataFrame'>\n",
      "Int64Index: 6550 entries, 0 to 6549\n",
      "Data columns (total 5 columns):\n",
      "age            6550 non-null float64\n",
      "weightkg       6550 non-null float64\n",
      "height         6550 non-null float64\n",
      "couple         6550 non-null int64\n",
      "transgender    6550 non-null int64\n",
      "dtypes: float64(3), int64(2)\n",
      "memory usage: 307.0 KB\n",
      "None\n"
     ]
    },
    {
     "data": {
      "text/html": [
       "<div>\n",
       "<style>\n",
       "    .dataframe thead tr:only-child th {\n",
       "        text-align: right;\n",
       "    }\n",
       "\n",
       "    .dataframe thead th {\n",
       "        text-align: left;\n",
       "    }\n",
       "\n",
       "    .dataframe tbody tr th {\n",
       "        vertical-align: top;\n",
       "    }\n",
       "</style>\n",
       "<table border=\"1\" class=\"dataframe\">\n",
       "  <thead>\n",
       "    <tr style=\"text-align: right;\">\n",
       "      <th></th>\n",
       "      <th>age</th>\n",
       "      <th>weightkg</th>\n",
       "      <th>height</th>\n",
       "      <th>couple</th>\n",
       "      <th>transgender</th>\n",
       "    </tr>\n",
       "  </thead>\n",
       "  <tbody>\n",
       "    <tr>\n",
       "      <th>0</th>\n",
       "      <td>0.385714</td>\n",
       "      <td>0.286765</td>\n",
       "      <td>0.510067</td>\n",
       "      <td>0</td>\n",
       "      <td>0</td>\n",
       "    </tr>\n",
       "    <tr>\n",
       "      <th>1</th>\n",
       "      <td>0.142857</td>\n",
       "      <td>0.264706</td>\n",
       "      <td>0.523490</td>\n",
       "      <td>0</td>\n",
       "      <td>0</td>\n",
       "    </tr>\n",
       "    <tr>\n",
       "      <th>2</th>\n",
       "      <td>0.314286</td>\n",
       "      <td>0.264706</td>\n",
       "      <td>0.429530</td>\n",
       "      <td>0</td>\n",
       "      <td>0</td>\n",
       "    </tr>\n",
       "    <tr>\n",
       "      <th>3</th>\n",
       "      <td>0.300000</td>\n",
       "      <td>0.316176</td>\n",
       "      <td>0.610738</td>\n",
       "      <td>0</td>\n",
       "      <td>0</td>\n",
       "    </tr>\n",
       "    <tr>\n",
       "      <th>4</th>\n",
       "      <td>0.328571</td>\n",
       "      <td>0.276694</td>\n",
       "      <td>0.520145</td>\n",
       "      <td>0</td>\n",
       "      <td>0</td>\n",
       "    </tr>\n",
       "    <tr>\n",
       "      <th>5</th>\n",
       "      <td>0.214286</td>\n",
       "      <td>0.276694</td>\n",
       "      <td>0.520145</td>\n",
       "      <td>0</td>\n",
       "      <td>0</td>\n",
       "    </tr>\n",
       "    <tr>\n",
       "      <th>6</th>\n",
       "      <td>0.100000</td>\n",
       "      <td>0.330882</td>\n",
       "      <td>0.610738</td>\n",
       "      <td>0</td>\n",
       "      <td>0</td>\n",
       "    </tr>\n",
       "    <tr>\n",
       "      <th>7</th>\n",
       "      <td>0.400000</td>\n",
       "      <td>0.276694</td>\n",
       "      <td>0.543624</td>\n",
       "      <td>0</td>\n",
       "      <td>0</td>\n",
       "    </tr>\n",
       "    <tr>\n",
       "      <th>8</th>\n",
       "      <td>0.328571</td>\n",
       "      <td>0.224265</td>\n",
       "      <td>0.456376</td>\n",
       "      <td>0</td>\n",
       "      <td>0</td>\n",
       "    </tr>\n",
       "    <tr>\n",
       "      <th>9</th>\n",
       "      <td>0.071429</td>\n",
       "      <td>0.246324</td>\n",
       "      <td>0.489933</td>\n",
       "      <td>0</td>\n",
       "      <td>0</td>\n",
       "    </tr>\n",
       "  </tbody>\n",
       "</table>\n",
       "</div>"
      ],
      "text/plain": [
       "        age  weightkg    height  couple  transgender\n",
       "0  0.385714  0.286765  0.510067       0            0\n",
       "1  0.142857  0.264706  0.523490       0            0\n",
       "2  0.314286  0.264706  0.429530       0            0\n",
       "3  0.300000  0.316176  0.610738       0            0\n",
       "4  0.328571  0.276694  0.520145       0            0\n",
       "5  0.214286  0.276694  0.520145       0            0\n",
       "6  0.100000  0.330882  0.610738       0            0\n",
       "7  0.400000  0.276694  0.543624       0            0\n",
       "8  0.328571  0.224265  0.456376       0            0\n",
       "9  0.071429  0.246324  0.489933       0            0"
      ]
     },
     "execution_count": 29,
     "metadata": {},
     "output_type": "execute_result"
    }
   ],
   "source": [
    "# users = users[['has_fb_id', 'weightkg', 'height', 'profile_length', 'couple', 'private_mode', \\\n",
    "#                'transgender', 'Role_Bottom', 'Role_Bottom_Versatile', 'Role_Top', 'Role_Top_Versatile', \\\n",
    "#                'Role_Unspecified', 'Role_Versatile', 'Relationship_Complicated', 'Relationship_InARelationship', \\\n",
    "#                'Relationship_OpenRelationship', 'Relationship_Single', 'hide_distance', 'hide_age', 'age', \\\n",
    "#                'public_photo_count', 'private_photo_count', 'lf_chat', 'lf_dates', 'lf_friends', 'lf_networking', \\\n",
    "#                'lf_relationships', 'lf_hookup', 'insta_photos_count']]\n",
    "users = users[['age', 'weightkg', 'height', 'couple', 'transgender']]\n",
    "users.loc[pd.isnull(users.weightkg), 'weightkg'] = users.weightkg.mean()\n",
    "users.loc[pd.isnull(users.height), 'height'] = users.height.mean()\n",
    "users['age'] = users.age.map(lambda x: (x - users.age.min()) / (users.age.max() - users.age.min()))\n",
    "users['weightkg'] = users.weightkg.map(lambda x: (x - users.weightkg.min()) / (users.weightkg.max() - users.weightkg.min()))\n",
    "users['height'] = users.height.map(lambda x: (x - users.height.min()) / (users.height.max() - users.height.min()))\n",
    "print(users.info())\n",
    "users.head(10)"
   ]
  },
  {
   "cell_type": "code",
   "execution_count": 30,
   "metadata": {},
   "outputs": [
    {
     "data": {
      "text/plain": [
       "<6550x5 sparse matrix of type '<class 'numpy.float64'>'\n",
       "\twith 19646 stored elements in Compressed Sparse Row format>"
      ]
     },
     "execution_count": 30,
     "metadata": {},
     "output_type": "execute_result"
    }
   ],
   "source": [
    "from scipy.sparse import csr_matrix\n",
    "users_csr = csr_matrix(users) #Don't include the index\n",
    "users_csr"
   ]
  },
  {
   "cell_type": "code",
   "execution_count": 31,
   "metadata": {
    "collapsed": true
   },
   "outputs": [],
   "source": [
    "# New model that will be trained with user features\n",
    "model = lightfm.LightFM(learning_rate=0.05, loss='warp')"
   ]
  },
  {
   "cell_type": "code",
   "execution_count": 32,
   "metadata": {},
   "outputs": [
    {
     "name": "stdout",
     "output_type": "stream",
     "text": [
      "Epoch 0\n",
      "Epoch 1\n",
      "Epoch 2\n",
      "Epoch 3\n",
      "Epoch 4\n",
      "Epoch 5\n",
      "Epoch 6\n",
      "Epoch 7\n",
      "Epoch 8\n",
      "Epoch 9\n",
      "Epoch 10\n",
      "Epoch 11\n",
      "Epoch 12\n",
      "Epoch 13\n",
      "Epoch 14\n",
      "Epoch 15\n",
      "Epoch 16\n",
      "Epoch 17\n",
      "Epoch 18\n",
      "Epoch 19\n",
      "Epoch 0\n",
      "Epoch 1\n",
      "Epoch 2\n",
      "Epoch 3\n",
      "Epoch 4\n",
      "Epoch 5\n",
      "Epoch 6\n",
      "Epoch 7\n",
      "Epoch 8\n",
      "Epoch 9\n",
      "Epoch 10\n",
      "Epoch 11\n",
      "Epoch 12\n",
      "Epoch 13\n",
      "Epoch 14\n",
      "Epoch 15\n",
      "Epoch 16\n",
      "Epoch 17\n",
      "Epoch 18\n",
      "Epoch 19\n",
      "Epoch 20\n",
      "Epoch 21\n",
      "Epoch 22\n",
      "Epoch 23\n",
      "Epoch 24\n",
      "Epoch 25\n",
      "Epoch 26\n",
      "Epoch 27\n",
      "Epoch 28\n",
      "Epoch 29\n",
      "Epoch 30\n",
      "Epoch 31\n",
      "Epoch 32\n",
      "Epoch 33\n",
      "Epoch 34\n",
      "Epoch 35\n",
      "Epoch 36\n",
      "Epoch 37\n",
      "Epoch 38\n",
      "Epoch 39\n",
      "Epoch 0\n",
      "Epoch 1\n",
      "Epoch 2\n",
      "Epoch 3\n",
      "Epoch 4\n",
      "Epoch 5\n",
      "Epoch 6\n",
      "Epoch 7\n",
      "Epoch 8\n",
      "Epoch 9\n",
      "Epoch 0\n",
      "Epoch 1\n",
      "Epoch 2\n",
      "Epoch 3\n",
      "Epoch 4\n",
      "Epoch 0\n",
      "Epoch 1\n",
      "Epoch 2\n",
      "Epoch 3\n",
      "Epoch 4\n",
      "Epoch 5\n",
      "Epoch 6\n",
      "Epoch 7\n",
      "Epoch 8\n",
      "Epoch 9\n",
      "Epoch 0\n",
      "Epoch 1\n",
      "Epoch 2\n",
      "Epoch 3\n",
      "Epoch 4\n",
      "Epoch 0\n",
      "Epoch 1\n",
      "Epoch 2\n",
      "Epoch 3\n",
      "Epoch 4\n",
      "Epoch 0\n",
      "Epoch 1\n",
      "Epoch 2\n",
      "Epoch 3\n",
      "Epoch 4\n",
      "Epoch 0\n",
      "Epoch 1\n",
      "Epoch 2\n",
      "Epoch 3\n",
      "Epoch 4\n",
      "Epoch 5\n",
      "Epoch 6\n",
      "Epoch 7\n",
      "Epoch 8\n",
      "Epoch 9\n",
      "Epoch 10\n",
      "Epoch 11\n",
      "Epoch 12\n",
      "Epoch 13\n",
      "Epoch 14\n",
      "Epoch 15\n",
      "Epoch 16\n",
      "Epoch 17\n",
      "Epoch 18\n",
      "Epoch 19\n",
      "Epoch 0\n",
      "Epoch 1\n",
      "Epoch 2\n",
      "Epoch 3\n",
      "Epoch 4\n",
      "Epoch 0\n",
      "Epoch 1\n",
      "Epoch 2\n",
      "Epoch 3\n",
      "Epoch 4\n",
      "Epoch 5\n",
      "Epoch 6\n",
      "Epoch 7\n",
      "Epoch 8\n",
      "Epoch 9\n",
      "Epoch 0\n",
      "Epoch 1\n",
      "Epoch 2\n",
      "Epoch 3\n",
      "Epoch 4\n",
      "Epoch 5\n",
      "Epoch 6\n",
      "Epoch 7\n",
      "Epoch 8\n",
      "Epoch 9\n",
      "Epoch 10\n",
      "Epoch 11\n",
      "Epoch 12\n",
      "Epoch 13\n",
      "Epoch 14\n",
      "Epoch 15\n",
      "Epoch 16\n",
      "Epoch 17\n",
      "Epoch 18\n",
      "Epoch 19\n",
      "Epoch 0\n",
      "Epoch 1\n",
      "Epoch 2\n",
      "Epoch 3\n",
      "Epoch 4\n",
      "Epoch 0\n",
      "Epoch 1\n",
      "Epoch 2\n",
      "Epoch 3\n",
      "Epoch 4\n",
      "Epoch 5\n",
      "Epoch 6\n",
      "Epoch 7\n",
      "Epoch 8\n",
      "Epoch 9\n",
      "Epoch 10\n",
      "Epoch 11\n",
      "Epoch 12\n",
      "Epoch 13\n",
      "Epoch 14\n",
      "Epoch 15\n",
      "Epoch 16\n",
      "Epoch 17\n",
      "Epoch 18\n",
      "Epoch 19\n",
      "Epoch 20\n",
      "Epoch 21\n",
      "Epoch 22\n",
      "Epoch 23\n",
      "Epoch 24\n",
      "Epoch 25\n",
      "Epoch 26\n",
      "Epoch 27\n",
      "Epoch 28\n",
      "Epoch 29\n",
      "Epoch 30\n",
      "Epoch 31\n",
      "Epoch 32\n",
      "Epoch 33\n",
      "Epoch 34\n",
      "Epoch 35\n",
      "Epoch 36\n",
      "Epoch 37\n",
      "Epoch 38\n",
      "Epoch 39\n",
      "Epoch 0\n",
      "Epoch 1\n",
      "Epoch 2\n",
      "Epoch 3\n",
      "Epoch 4\n",
      "Epoch 0\n",
      "Epoch 1\n",
      "Epoch 2\n",
      "Epoch 3\n",
      "Epoch 4\n",
      "Epoch 5\n",
      "Epoch 6\n",
      "Epoch 7\n",
      "Epoch 8\n",
      "Epoch 9\n",
      "Epoch 0\n",
      "Epoch 1\n",
      "Epoch 2\n",
      "Epoch 3\n",
      "Epoch 4\n",
      "Epoch 5\n",
      "Epoch 6\n",
      "Epoch 7\n",
      "Epoch 8\n",
      "Epoch 9\n",
      "Epoch 10\n",
      "Epoch 11\n",
      "Epoch 12\n",
      "Epoch 13\n",
      "Epoch 14\n",
      "Epoch 15\n",
      "Epoch 16\n",
      "Epoch 17\n",
      "Epoch 18\n",
      "Epoch 19\n",
      "Epoch 20\n",
      "Epoch 21\n",
      "Epoch 22\n",
      "Epoch 23\n",
      "Epoch 24\n",
      "Epoch 25\n",
      "Epoch 26\n",
      "Epoch 27\n",
      "Epoch 28\n",
      "Epoch 29\n",
      "Epoch 30\n",
      "Epoch 31\n",
      "Epoch 32\n",
      "Epoch 33\n",
      "Epoch 34\n",
      "Epoch 35\n",
      "Epoch 36\n",
      "Epoch 37\n",
      "Epoch 38\n",
      "Epoch 39\n",
      "Epoch 40\n",
      "Epoch 41\n",
      "Epoch 42\n",
      "Epoch 43\n",
      "Epoch 44\n",
      "Epoch 45\n",
      "Epoch 46\n",
      "Epoch 47\n",
      "Epoch 48\n",
      "Epoch 49\n",
      "Epoch 50\n",
      "Epoch 51\n",
      "Epoch 52\n",
      "Epoch 53\n",
      "Epoch 54\n",
      "Epoch 55\n",
      "Epoch 56\n",
      "Epoch 57\n",
      "Epoch 58\n",
      "Epoch 59\n",
      "Epoch 60\n",
      "Epoch 61\n",
      "Epoch 62\n",
      "Epoch 63\n",
      "Epoch 64\n",
      "Epoch 65\n",
      "Epoch 66\n",
      "Epoch 67\n",
      "Epoch 68\n",
      "Epoch 69\n",
      "Epoch 70\n",
      "Epoch 71\n",
      "Epoch 72\n",
      "Epoch 73\n",
      "Epoch 74\n",
      "Epoch 75\n",
      "Epoch 76\n",
      "Epoch 77\n",
      "Epoch 78\n",
      "Epoch 79\n",
      "Epoch 0\n",
      "Epoch 1\n",
      "Epoch 2\n",
      "Epoch 3\n",
      "Epoch 4\n",
      "Epoch 5\n",
      "Epoch 6\n",
      "Epoch 7\n",
      "Epoch 8\n",
      "Epoch 9\n",
      "Epoch 10\n",
      "Epoch 11\n",
      "Epoch 12\n",
      "Epoch 13\n",
      "Epoch 14\n",
      "Epoch 15\n",
      "Epoch 16\n",
      "Epoch 17\n",
      "Epoch 18\n",
      "Epoch 19\n",
      "Epoch 20\n",
      "Epoch 21\n",
      "Epoch 22\n",
      "Epoch 23\n",
      "Epoch 24\n",
      "Epoch 25\n",
      "Epoch 26\n",
      "Epoch 27\n",
      "Epoch 28\n",
      "Epoch 29\n",
      "Epoch 30\n",
      "Epoch 31\n",
      "Epoch 32\n",
      "Epoch 33\n",
      "Epoch 34\n",
      "Epoch 35\n",
      "Epoch 36\n",
      "Epoch 37\n",
      "Epoch 38\n",
      "Epoch 39\n",
      "Epoch 40\n",
      "Epoch 41\n",
      "Epoch 42\n",
      "Epoch 43\n",
      "Epoch 44\n",
      "Epoch 45\n",
      "Epoch 46\n",
      "Epoch 47\n",
      "Epoch 48\n",
      "Epoch 49\n",
      "Epoch 50\n",
      "Epoch 51\n",
      "Epoch 52\n",
      "Epoch 53\n",
      "Epoch 54\n",
      "Epoch 55\n",
      "Epoch 56\n",
      "Epoch 57\n",
      "Epoch 58\n",
      "Epoch 59\n",
      "Epoch 60\n",
      "Epoch 61\n",
      "Epoch 62\n",
      "Epoch 63\n",
      "Epoch 64\n",
      "Epoch 65\n",
      "Epoch 66\n",
      "Epoch 67\n",
      "Epoch 68\n",
      "Epoch 69\n",
      "Epoch 70\n",
      "Epoch 71\n",
      "Epoch 72\n",
      "Epoch 73\n",
      "Epoch 74\n",
      "Epoch 75\n",
      "Epoch 76\n",
      "Epoch 77\n",
      "Epoch 78\n",
      "Epoch 79\n",
      "Epoch 0\n",
      "Epoch 1\n",
      "Epoch 2\n",
      "Epoch 3\n",
      "Epoch 4\n",
      "Epoch 5\n",
      "Epoch 6\n",
      "Epoch 7\n",
      "Epoch 8\n",
      "Epoch 9\n"
     ]
    },
    {
     "name": "stderr",
     "output_type": "stream",
     "text": [
      "/Users/davenovelli/miniconda3/envs/strvworkshop/lib/python3.5/site-packages/skopt/optimizer/optimizer.py:208: UserWarning: The objective has been evaluated at this point before.\n",
      "  warnings.warn(\"The objective has been evaluated \"\n"
     ]
    },
    {
     "name": "stdout",
     "output_type": "stream",
     "text": [
      "Epoch 0\n",
      "Epoch 1\n",
      "Epoch 2\n",
      "Epoch 3\n",
      "Epoch 4\n",
      "Epoch 5\n",
      "Epoch 6\n",
      "Epoch 7\n",
      "Epoch 8\n",
      "Epoch 9\n",
      "Epoch 0\n",
      "Epoch 1\n",
      "Epoch 2\n",
      "Epoch 3\n",
      "Epoch 4\n",
      "Epoch 5\n",
      "Epoch 6\n",
      "Epoch 7\n",
      "Epoch 8\n",
      "Epoch 9\n",
      "Epoch 10\n",
      "Epoch 11\n",
      "Epoch 12\n",
      "Epoch 13\n",
      "Epoch 14\n",
      "Epoch 15\n",
      "Epoch 16\n",
      "Epoch 17\n",
      "Epoch 18\n",
      "Epoch 19\n",
      "Epoch 20\n",
      "Epoch 21\n",
      "Epoch 22\n",
      "Epoch 23\n",
      "Epoch 24\n",
      "Epoch 25\n",
      "Epoch 26\n",
      "Epoch 27\n",
      "Epoch 28\n",
      "Epoch 29\n",
      "Epoch 30\n",
      "Epoch 31\n",
      "Epoch 32\n",
      "Epoch 33\n",
      "Epoch 34\n",
      "Epoch 35\n",
      "Epoch 36\n",
      "Epoch 37\n",
      "Epoch 38\n",
      "Epoch 39\n",
      "Epoch 40\n",
      "Epoch 41\n",
      "Epoch 42\n",
      "Epoch 43\n",
      "Epoch 44\n",
      "Epoch 45\n",
      "Epoch 46\n",
      "Epoch 47\n",
      "Epoch 48\n",
      "Epoch 49\n",
      "Epoch 50\n",
      "Epoch 51\n",
      "Epoch 52\n",
      "Epoch 53\n",
      "Epoch 54\n",
      "Epoch 55\n",
      "Epoch 56\n",
      "Epoch 57\n",
      "Epoch 58\n",
      "Epoch 59\n",
      "Epoch 60\n",
      "Epoch 61\n",
      "Epoch 62\n",
      "Epoch 63\n",
      "Epoch 64\n",
      "Epoch 65\n",
      "Epoch 66\n",
      "Epoch 67\n",
      "Epoch 68\n",
      "Epoch 69\n",
      "Epoch 70\n",
      "Epoch 71\n",
      "Epoch 72\n",
      "Epoch 73\n",
      "Epoch 74\n",
      "Epoch 75\n",
      "Epoch 76\n",
      "Epoch 77\n",
      "Epoch 78\n",
      "Epoch 79\n"
     ]
    },
    {
     "name": "stderr",
     "output_type": "stream",
     "text": [
      "/Users/davenovelli/miniconda3/envs/strvworkshop/lib/python3.5/site-packages/skopt/optimizer/optimizer.py:208: UserWarning: The objective has been evaluated at this point before.\n",
      "  warnings.warn(\"The objective has been evaluated \"\n"
     ]
    },
    {
     "name": "stdout",
     "output_type": "stream",
     "text": [
      "Epoch 0\n",
      "Epoch 1\n",
      "Epoch 2\n",
      "Epoch 3\n",
      "Epoch 4\n",
      "Epoch 5\n",
      "Epoch 6\n",
      "Epoch 7\n",
      "Epoch 8\n",
      "Epoch 9\n",
      "Epoch 0\n",
      "Epoch 1\n",
      "Epoch 2\n",
      "Epoch 3\n",
      "Epoch 4\n",
      "Epoch 5\n",
      "Epoch 6\n",
      "Epoch 7\n",
      "Epoch 8\n",
      "Epoch 9\n",
      "Epoch 10\n",
      "Epoch 11\n",
      "Epoch 12\n",
      "Epoch 13\n",
      "Epoch 14\n",
      "Epoch 15\n",
      "Epoch 16\n",
      "Epoch 17\n",
      "Epoch 18\n",
      "Epoch 19\n",
      "Epoch 20\n",
      "Epoch 21\n",
      "Epoch 22\n",
      "Epoch 23\n",
      "Epoch 24\n",
      "Epoch 25\n",
      "Epoch 26\n",
      "Epoch 27\n",
      "Epoch 28\n",
      "Epoch 29\n",
      "Epoch 30\n",
      "Epoch 31\n",
      "Epoch 32\n",
      "Epoch 33\n",
      "Epoch 34\n",
      "Epoch 35\n",
      "Epoch 36\n",
      "Epoch 37\n",
      "Epoch 38\n",
      "Epoch 39\n",
      "Epoch 0\n",
      "Epoch 1\n",
      "Epoch 2\n",
      "Epoch 3\n",
      "Epoch 4\n",
      "Epoch 5\n",
      "Epoch 6\n",
      "Epoch 7\n",
      "Epoch 8\n",
      "Epoch 9\n",
      "Epoch 10\n",
      "Epoch 11\n",
      "Epoch 12\n",
      "Epoch 13\n",
      "Epoch 14\n",
      "Epoch 15\n",
      "Epoch 16\n",
      "Epoch 17\n",
      "Epoch 18\n",
      "Epoch 19\n",
      "Epoch 20\n",
      "Epoch 21\n",
      "Epoch 22\n",
      "Epoch 23\n",
      "Epoch 24\n",
      "Epoch 25\n",
      "Epoch 26\n",
      "Epoch 27\n",
      "Epoch 28\n",
      "Epoch 29\n",
      "Epoch 30\n",
      "Epoch 31\n",
      "Epoch 32\n",
      "Epoch 33\n",
      "Epoch 34\n",
      "Epoch 35\n",
      "Epoch 36\n",
      "Epoch 37\n",
      "Epoch 38\n",
      "Epoch 39\n",
      "Epoch 0\n",
      "Epoch 1\n",
      "Epoch 2\n",
      "Epoch 3\n",
      "Epoch 4\n",
      "Epoch 5\n",
      "Epoch 6\n",
      "Epoch 7\n",
      "Epoch 8\n",
      "Epoch 9\n",
      "Epoch 10\n",
      "Epoch 11\n",
      "Epoch 12\n",
      "Epoch 13\n",
      "Epoch 14\n",
      "Epoch 15\n",
      "Epoch 16\n",
      "Epoch 17\n",
      "Epoch 18\n",
      "Epoch 19\n",
      "Epoch 20\n",
      "Epoch 21\n",
      "Epoch 22\n",
      "Epoch 23\n",
      "Epoch 24\n",
      "Epoch 25\n",
      "Epoch 26\n",
      "Epoch 27\n",
      "Epoch 28\n",
      "Epoch 29\n",
      "Epoch 30\n",
      "Epoch 31\n",
      "Epoch 32\n",
      "Epoch 33\n",
      "Epoch 34\n",
      "Epoch 35\n",
      "Epoch 36\n",
      "Epoch 37\n",
      "Epoch 38\n",
      "Epoch 39\n",
      "Epoch 0\n",
      "Epoch 1\n",
      "Epoch 2\n",
      "Epoch 3\n",
      "Epoch 4\n",
      "Epoch 0\n",
      "Epoch 1\n",
      "Epoch 2\n",
      "Epoch 3\n",
      "Epoch 4\n"
     ]
    },
    {
     "name": "stderr",
     "output_type": "stream",
     "text": [
      "/Users/davenovelli/miniconda3/envs/strvworkshop/lib/python3.5/site-packages/skopt/optimizer/optimizer.py:208: UserWarning: The objective has been evaluated at this point before.\n",
      "  warnings.warn(\"The objective has been evaluated \"\n"
     ]
    },
    {
     "name": "stdout",
     "output_type": "stream",
     "text": [
      "Epoch 0\n",
      "Epoch 1\n",
      "Epoch 2\n",
      "Epoch 3\n",
      "Epoch 4\n"
     ]
    },
    {
     "name": "stderr",
     "output_type": "stream",
     "text": [
      "/Users/davenovelli/miniconda3/envs/strvworkshop/lib/python3.5/site-packages/skopt/optimizer/optimizer.py:208: UserWarning: The objective has been evaluated at this point before.\n",
      "  warnings.warn(\"The objective has been evaluated \"\n"
     ]
    },
    {
     "name": "stdout",
     "output_type": "stream",
     "text": [
      "Epoch 0\n",
      "Epoch 1\n",
      "Epoch 2\n",
      "Epoch 3\n",
      "Epoch 4\n",
      "Epoch 0\n",
      "Epoch 1\n",
      "Epoch 2\n",
      "Epoch 3\n",
      "Epoch 4\n"
     ]
    },
    {
     "name": "stderr",
     "output_type": "stream",
     "text": [
      "/Users/davenovelli/miniconda3/envs/strvworkshop/lib/python3.5/site-packages/skopt/optimizer/optimizer.py:208: UserWarning: The objective has been evaluated at this point before.\n",
      "  warnings.warn(\"The objective has been evaluated \"\n"
     ]
    },
    {
     "name": "stdout",
     "output_type": "stream",
     "text": [
      "Epoch 0\n",
      "Epoch 1\n",
      "Epoch 2\n",
      "Epoch 3\n",
      "Epoch 4\n",
      "Epoch 0\n",
      "Epoch 1\n",
      "Epoch 2\n",
      "Epoch 3\n",
      "Epoch 4\n",
      "Epoch 5\n",
      "Epoch 6\n",
      "Epoch 7\n",
      "Epoch 8\n",
      "Epoch 9\n"
     ]
    },
    {
     "name": "stderr",
     "output_type": "stream",
     "text": [
      "/Users/davenovelli/miniconda3/envs/strvworkshop/lib/python3.5/site-packages/skopt/optimizer/optimizer.py:208: UserWarning: The objective has been evaluated at this point before.\n",
      "  warnings.warn(\"The objective has been evaluated \"\n"
     ]
    },
    {
     "name": "stdout",
     "output_type": "stream",
     "text": [
      "Epoch 0\n",
      "Epoch 1\n",
      "Epoch 2\n",
      "Epoch 3\n",
      "Epoch 4\n",
      "Epoch 5\n",
      "Epoch 6\n",
      "Epoch 7\n",
      "Epoch 8\n",
      "Epoch 9\n",
      "Epoch 0\n",
      "Epoch 1\n",
      "Epoch 2\n",
      "Epoch 3\n",
      "Epoch 4\n",
      "Epoch 5\n",
      "Epoch 6\n",
      "Epoch 7\n",
      "Epoch 8\n",
      "Epoch 9\n",
      "Epoch 10\n",
      "Epoch 11\n",
      "Epoch 12\n",
      "Epoch 13\n",
      "Epoch 14\n",
      "Epoch 15\n",
      "Epoch 16\n",
      "Epoch 17\n",
      "Epoch 18\n",
      "Epoch 19\n",
      "Epoch 20\n",
      "Epoch 21\n",
      "Epoch 22\n",
      "Epoch 23\n",
      "Epoch 24\n",
      "Epoch 25\n",
      "Epoch 26\n",
      "Epoch 27\n",
      "Epoch 28\n",
      "Epoch 29\n",
      "Epoch 30\n",
      "Epoch 31\n",
      "Epoch 32\n",
      "Epoch 33\n",
      "Epoch 34\n",
      "Epoch 35\n",
      "Epoch 36\n",
      "Epoch 37\n",
      "Epoch 38\n",
      "Epoch 39\n",
      "Epoch 40\n",
      "Epoch 41\n",
      "Epoch 42\n",
      "Epoch 43\n",
      "Epoch 44\n",
      "Epoch 45\n",
      "Epoch 46\n",
      "Epoch 47\n",
      "Epoch 48\n",
      "Epoch 49\n",
      "Epoch 50\n",
      "Epoch 51\n",
      "Epoch 52\n",
      "Epoch 53\n",
      "Epoch 54\n",
      "Epoch 55\n",
      "Epoch 56\n",
      "Epoch 57\n",
      "Epoch 58\n",
      "Epoch 59\n",
      "Epoch 60\n",
      "Epoch 61\n",
      "Epoch 62\n",
      "Epoch 63\n",
      "Epoch 64\n",
      "Epoch 65\n",
      "Epoch 66\n",
      "Epoch 67\n",
      "Epoch 68\n",
      "Epoch 69\n",
      "Epoch 70\n",
      "Epoch 71\n",
      "Epoch 72\n",
      "Epoch 73\n",
      "Epoch 74\n",
      "Epoch 75\n",
      "Epoch 76\n",
      "Epoch 77\n",
      "Epoch 78\n",
      "Epoch 79\n",
      "Epoch 0\n",
      "Epoch 1\n",
      "Epoch 2\n",
      "Epoch 3\n",
      "Epoch 4\n",
      "Epoch 5\n",
      "Epoch 6\n",
      "Epoch 7\n",
      "Epoch 8\n",
      "Epoch 9\n"
     ]
    },
    {
     "name": "stderr",
     "output_type": "stream",
     "text": [
      "/Users/davenovelli/miniconda3/envs/strvworkshop/lib/python3.5/site-packages/skopt/optimizer/optimizer.py:208: UserWarning: The objective has been evaluated at this point before.\n",
      "  warnings.warn(\"The objective has been evaluated \"\n"
     ]
    },
    {
     "name": "stdout",
     "output_type": "stream",
     "text": [
      "Epoch 0\n",
      "Epoch 1\n",
      "Epoch 2\n",
      "Epoch 3\n",
      "Epoch 4\n",
      "Epoch 5\n",
      "Epoch 6\n",
      "Epoch 7\n",
      "Epoch 8\n",
      "Epoch 9\n"
     ]
    },
    {
     "name": "stderr",
     "output_type": "stream",
     "text": [
      "/Users/davenovelli/miniconda3/envs/strvworkshop/lib/python3.5/site-packages/skopt/optimizer/optimizer.py:208: UserWarning: The objective has been evaluated at this point before.\n",
      "  warnings.warn(\"The objective has been evaluated \"\n"
     ]
    },
    {
     "name": "stdout",
     "output_type": "stream",
     "text": [
      "Epoch 0\n",
      "Epoch 1\n",
      "Epoch 2\n",
      "Epoch 3\n",
      "Epoch 4\n",
      "Epoch 5\n",
      "Epoch 6\n",
      "Epoch 7\n",
      "Epoch 8\n",
      "Epoch 9\n",
      "Epoch 0\n",
      "Epoch 1\n",
      "Epoch 2\n",
      "Epoch 3\n",
      "Epoch 4\n",
      "Epoch 5\n",
      "Epoch 6\n",
      "Epoch 7\n",
      "Epoch 8\n",
      "Epoch 9\n"
     ]
    },
    {
     "name": "stderr",
     "output_type": "stream",
     "text": [
      "/Users/davenovelli/miniconda3/envs/strvworkshop/lib/python3.5/site-packages/skopt/optimizer/optimizer.py:208: UserWarning: The objective has been evaluated at this point before.\n",
      "  warnings.warn(\"The objective has been evaluated \"\n"
     ]
    },
    {
     "name": "stdout",
     "output_type": "stream",
     "text": [
      "Epoch 0\n",
      "Epoch 1\n",
      "Epoch 2\n",
      "Epoch 3\n",
      "Epoch 4\n",
      "Epoch 5\n",
      "Epoch 6\n",
      "Epoch 7\n",
      "Epoch 8\n",
      "Epoch 9\n",
      "Epoch 0\n",
      "Epoch 1\n",
      "Epoch 2\n",
      "Epoch 3\n",
      "Epoch 4\n",
      "Epoch 5\n",
      "Epoch 6\n",
      "Epoch 7\n",
      "Epoch 8\n",
      "Epoch 9\n"
     ]
    },
    {
     "name": "stderr",
     "output_type": "stream",
     "text": [
      "/Users/davenovelli/miniconda3/envs/strvworkshop/lib/python3.5/site-packages/skopt/optimizer/optimizer.py:208: UserWarning: The objective has been evaluated at this point before.\n",
      "  warnings.warn(\"The objective has been evaluated \"\n"
     ]
    },
    {
     "name": "stdout",
     "output_type": "stream",
     "text": [
      "Epoch 0\n",
      "Epoch 1\n",
      "Epoch 2\n",
      "Epoch 3\n",
      "Epoch 4\n",
      "Epoch 5\n",
      "Epoch 6\n",
      "Epoch 7\n",
      "Epoch 8\n",
      "Epoch 9\n"
     ]
    },
    {
     "name": "stderr",
     "output_type": "stream",
     "text": [
      "/Users/davenovelli/miniconda3/envs/strvworkshop/lib/python3.5/site-packages/skopt/optimizer/optimizer.py:208: UserWarning: The objective has been evaluated at this point before.\n",
      "  warnings.warn(\"The objective has been evaluated \"\n"
     ]
    },
    {
     "name": "stdout",
     "output_type": "stream",
     "text": [
      "Epoch 0\n",
      "Epoch 1\n",
      "Epoch 2\n",
      "Epoch 3\n",
      "Epoch 4\n",
      "Epoch 5\n",
      "Epoch 6\n",
      "Epoch 7\n",
      "Epoch 8\n",
      "Epoch 9\n"
     ]
    },
    {
     "name": "stderr",
     "output_type": "stream",
     "text": [
      "/Users/davenovelli/miniconda3/envs/strvworkshop/lib/python3.5/site-packages/skopt/optimizer/optimizer.py:208: UserWarning: The objective has been evaluated at this point before.\n",
      "  warnings.warn(\"The objective has been evaluated \"\n"
     ]
    },
    {
     "name": "stdout",
     "output_type": "stream",
     "text": [
      "Epoch 0\n",
      "Epoch 1\n",
      "Epoch 2\n",
      "Epoch 3\n",
      "Epoch 4\n",
      "Epoch 5\n",
      "Epoch 6\n",
      "Epoch 7\n",
      "Epoch 8\n",
      "Epoch 9\n"
     ]
    },
    {
     "name": "stderr",
     "output_type": "stream",
     "text": [
      "/Users/davenovelli/miniconda3/envs/strvworkshop/lib/python3.5/site-packages/skopt/optimizer/optimizer.py:208: UserWarning: The objective has been evaluated at this point before.\n",
      "  warnings.warn(\"The objective has been evaluated \"\n"
     ]
    },
    {
     "name": "stdout",
     "output_type": "stream",
     "text": [
      "Epoch 0\n",
      "Epoch 1\n",
      "Epoch 2\n",
      "Epoch 3\n",
      "Epoch 4\n",
      "Epoch 5\n",
      "Epoch 6\n",
      "Epoch 7\n",
      "Epoch 8\n",
      "Epoch 9\n"
     ]
    },
    {
     "name": "stderr",
     "output_type": "stream",
     "text": [
      "/Users/davenovelli/miniconda3/envs/strvworkshop/lib/python3.5/site-packages/skopt/optimizer/optimizer.py:208: UserWarning: The objective has been evaluated at this point before.\n",
      "  warnings.warn(\"The objective has been evaluated \"\n"
     ]
    },
    {
     "name": "stdout",
     "output_type": "stream",
     "text": [
      "Epoch 0\n",
      "Epoch 1\n",
      "Epoch 2\n",
      "Epoch 3\n",
      "Epoch 4\n",
      "Epoch 5\n",
      "Epoch 6\n",
      "Epoch 7\n",
      "Epoch 8\n",
      "Epoch 9\n"
     ]
    },
    {
     "name": "stderr",
     "output_type": "stream",
     "text": [
      "/Users/davenovelli/miniconda3/envs/strvworkshop/lib/python3.5/site-packages/skopt/optimizer/optimizer.py:208: UserWarning: The objective has been evaluated at this point before.\n",
      "  warnings.warn(\"The objective has been evaluated \"\n"
     ]
    },
    {
     "name": "stdout",
     "output_type": "stream",
     "text": [
      "Epoch 0\n",
      "Epoch 1\n",
      "Epoch 2\n",
      "Epoch 3\n",
      "Epoch 4\n",
      "Epoch 5\n",
      "Epoch 6\n",
      "Epoch 7\n",
      "Epoch 8\n",
      "Epoch 9\n"
     ]
    },
    {
     "name": "stderr",
     "output_type": "stream",
     "text": [
      "/Users/davenovelli/miniconda3/envs/strvworkshop/lib/python3.5/site-packages/skopt/optimizer/optimizer.py:208: UserWarning: The objective has been evaluated at this point before.\n",
      "  warnings.warn(\"The objective has been evaluated \"\n"
     ]
    },
    {
     "name": "stdout",
     "output_type": "stream",
     "text": [
      "Epoch 0\n",
      "Epoch 1\n",
      "Epoch 2\n",
      "Epoch 3\n",
      "Epoch 4\n",
      "Epoch 5\n",
      "Epoch 6\n",
      "Epoch 7\n",
      "Epoch 8\n",
      "Epoch 9\n"
     ]
    },
    {
     "name": "stderr",
     "output_type": "stream",
     "text": [
      "/Users/davenovelli/miniconda3/envs/strvworkshop/lib/python3.5/site-packages/skopt/optimizer/optimizer.py:208: UserWarning: The objective has been evaluated at this point before.\n",
      "  warnings.warn(\"The objective has been evaluated \"\n"
     ]
    },
    {
     "name": "stdout",
     "output_type": "stream",
     "text": [
      "Epoch 0\n",
      "Epoch 1\n",
      "Epoch 2\n",
      "Epoch 3\n",
      "Epoch 4\n",
      "Epoch 5\n",
      "Epoch 6\n",
      "Epoch 7\n",
      "Epoch 8\n",
      "Epoch 9\n"
     ]
    },
    {
     "name": "stderr",
     "output_type": "stream",
     "text": [
      "/Users/davenovelli/miniconda3/envs/strvworkshop/lib/python3.5/site-packages/skopt/optimizer/optimizer.py:208: UserWarning: The objective has been evaluated at this point before.\n",
      "  warnings.warn(\"The objective has been evaluated \"\n"
     ]
    },
    {
     "name": "stdout",
     "output_type": "stream",
     "text": [
      "Epoch 0\n",
      "Epoch 1\n",
      "Epoch 2\n",
      "Epoch 3\n",
      "Epoch 4\n",
      "Epoch 5\n",
      "Epoch 6\n",
      "Epoch 7\n",
      "Epoch 8\n",
      "Epoch 9\n"
     ]
    },
    {
     "name": "stderr",
     "output_type": "stream",
     "text": [
      "/Users/davenovelli/miniconda3/envs/strvworkshop/lib/python3.5/site-packages/skopt/optimizer/optimizer.py:208: UserWarning: The objective has been evaluated at this point before.\n",
      "  warnings.warn(\"The objective has been evaluated \"\n"
     ]
    },
    {
     "name": "stdout",
     "output_type": "stream",
     "text": [
      "Epoch 0\n",
      "Epoch 1\n",
      "Epoch 2\n",
      "Epoch 3\n",
      "Epoch 4\n",
      "Epoch 5\n",
      "Epoch 6\n",
      "Epoch 7\n",
      "Epoch 8\n",
      "Epoch 9\n"
     ]
    },
    {
     "name": "stderr",
     "output_type": "stream",
     "text": [
      "/Users/davenovelli/miniconda3/envs/strvworkshop/lib/python3.5/site-packages/skopt/optimizer/optimizer.py:208: UserWarning: The objective has been evaluated at this point before.\n",
      "  warnings.warn(\"The objective has been evaluated \"\n"
     ]
    },
    {
     "name": "stdout",
     "output_type": "stream",
     "text": [
      "Epoch 0\n",
      "Epoch 1\n",
      "Epoch 2\n",
      "Epoch 3\n",
      "Epoch 4\n",
      "Epoch 5\n",
      "Epoch 6\n",
      "Epoch 7\n",
      "Epoch 8\n",
      "Epoch 9\n"
     ]
    },
    {
     "name": "stderr",
     "output_type": "stream",
     "text": [
      "/Users/davenovelli/miniconda3/envs/strvworkshop/lib/python3.5/site-packages/skopt/optimizer/optimizer.py:208: UserWarning: The objective has been evaluated at this point before.\n",
      "  warnings.warn(\"The objective has been evaluated \"\n"
     ]
    },
    {
     "name": "stdout",
     "output_type": "stream",
     "text": [
      "Epoch 0\n",
      "Epoch 1\n",
      "Epoch 2\n",
      "Epoch 3\n",
      "Epoch 4\n",
      "Epoch 5\n",
      "Epoch 6\n",
      "Epoch 7\n",
      "Epoch 8\n",
      "Epoch 9\n"
     ]
    },
    {
     "name": "stderr",
     "output_type": "stream",
     "text": [
      "/Users/davenovelli/miniconda3/envs/strvworkshop/lib/python3.5/site-packages/skopt/optimizer/optimizer.py:208: UserWarning: The objective has been evaluated at this point before.\n",
      "  warnings.warn(\"The objective has been evaluated \"\n"
     ]
    },
    {
     "name": "stdout",
     "output_type": "stream",
     "text": [
      "Epoch 0\n",
      "Epoch 1\n",
      "Epoch 2\n",
      "Epoch 3\n",
      "Epoch 4\n",
      "Epoch 5\n",
      "Epoch 6\n",
      "Epoch 7\n",
      "Epoch 8\n",
      "Epoch 9\n"
     ]
    },
    {
     "name": "stderr",
     "output_type": "stream",
     "text": [
      "/Users/davenovelli/miniconda3/envs/strvworkshop/lib/python3.5/site-packages/skopt/optimizer/optimizer.py:208: UserWarning: The objective has been evaluated at this point before.\n",
      "  warnings.warn(\"The objective has been evaluated \"\n"
     ]
    },
    {
     "name": "stdout",
     "output_type": "stream",
     "text": [
      "Epoch 0\n",
      "Epoch 1\n",
      "Epoch 2\n",
      "Epoch 3\n",
      "Epoch 4\n",
      "Epoch 5\n",
      "Epoch 6\n",
      "Epoch 7\n",
      "Epoch 8\n",
      "Epoch 9\n"
     ]
    },
    {
     "name": "stderr",
     "output_type": "stream",
     "text": [
      "/Users/davenovelli/miniconda3/envs/strvworkshop/lib/python3.5/site-packages/skopt/optimizer/optimizer.py:208: UserWarning: The objective has been evaluated at this point before.\n",
      "  warnings.warn(\"The objective has been evaluated \"\n"
     ]
    },
    {
     "name": "stdout",
     "output_type": "stream",
     "text": [
      "Epoch 0\n",
      "Epoch 1\n",
      "Epoch 2\n",
      "Epoch 3\n",
      "Epoch 4\n",
      "Epoch 5\n",
      "Epoch 6\n",
      "Epoch 7\n",
      "Epoch 8\n",
      "Epoch 9\n"
     ]
    },
    {
     "name": "stderr",
     "output_type": "stream",
     "text": [
      "/Users/davenovelli/miniconda3/envs/strvworkshop/lib/python3.5/site-packages/skopt/optimizer/optimizer.py:208: UserWarning: The objective has been evaluated at this point before.\n",
      "  warnings.warn(\"The objective has been evaluated \"\n"
     ]
    },
    {
     "name": "stdout",
     "output_type": "stream",
     "text": [
      "Epoch 0\n",
      "Epoch 1\n",
      "Epoch 2\n",
      "Epoch 3\n",
      "Epoch 4\n",
      "Epoch 5\n",
      "Epoch 6\n",
      "Epoch 7\n",
      "Epoch 8\n",
      "Epoch 9\n"
     ]
    },
    {
     "name": "stderr",
     "output_type": "stream",
     "text": [
      "/Users/davenovelli/miniconda3/envs/strvworkshop/lib/python3.5/site-packages/skopt/optimizer/optimizer.py:208: UserWarning: The objective has been evaluated at this point before.\n",
      "  warnings.warn(\"The objective has been evaluated \"\n"
     ]
    },
    {
     "name": "stdout",
     "output_type": "stream",
     "text": [
      "Epoch 0\n",
      "Epoch 1\n",
      "Epoch 2\n",
      "Epoch 3\n",
      "Epoch 4\n",
      "Epoch 5\n",
      "Epoch 6\n",
      "Epoch 7\n",
      "Epoch 8\n",
      "Epoch 9\n"
     ]
    },
    {
     "name": "stderr",
     "output_type": "stream",
     "text": [
      "/Users/davenovelli/miniconda3/envs/strvworkshop/lib/python3.5/site-packages/skopt/optimizer/optimizer.py:208: UserWarning: The objective has been evaluated at this point before.\n",
      "  warnings.warn(\"The objective has been evaluated \"\n"
     ]
    },
    {
     "name": "stdout",
     "output_type": "stream",
     "text": [
      "Epoch 0\n",
      "Epoch 1\n",
      "Epoch 2\n",
      "Epoch 3\n",
      "Epoch 4\n",
      "Epoch 5\n",
      "Epoch 6\n",
      "Epoch 7\n",
      "Epoch 8\n",
      "Epoch 9\n"
     ]
    },
    {
     "name": "stderr",
     "output_type": "stream",
     "text": [
      "/Users/davenovelli/miniconda3/envs/strvworkshop/lib/python3.5/site-packages/skopt/optimizer/optimizer.py:208: UserWarning: The objective has been evaluated at this point before.\n",
      "  warnings.warn(\"The objective has been evaluated \"\n"
     ]
    },
    {
     "name": "stdout",
     "output_type": "stream",
     "text": [
      "Epoch 0\n",
      "Epoch 1\n",
      "Epoch 2\n",
      "Epoch 3\n",
      "Epoch 4\n",
      "Epoch 5\n",
      "Epoch 6\n",
      "Epoch 7\n",
      "Epoch 8\n",
      "Epoch 9\n"
     ]
    },
    {
     "name": "stderr",
     "output_type": "stream",
     "text": [
      "/Users/davenovelli/miniconda3/envs/strvworkshop/lib/python3.5/site-packages/skopt/optimizer/optimizer.py:208: UserWarning: The objective has been evaluated at this point before.\n",
      "  warnings.warn(\"The objective has been evaluated \"\n"
     ]
    },
    {
     "name": "stdout",
     "output_type": "stream",
     "text": [
      "Epoch 0\n",
      "Epoch 1\n",
      "Epoch 2\n",
      "Epoch 3\n",
      "Epoch 4\n",
      "Epoch 5\n",
      "Epoch 6\n",
      "Epoch 7\n",
      "Epoch 8\n",
      "Epoch 9\n",
      "Epoch 0\n",
      "Epoch 1\n",
      "Epoch 2\n",
      "Epoch 3\n",
      "Epoch 4\n",
      "Epoch 5\n",
      "Epoch 6\n",
      "Epoch 7\n",
      "Epoch 8\n",
      "Epoch 9\n",
      "Epoch 10\n",
      "Epoch 11\n",
      "Epoch 12\n",
      "Epoch 13\n",
      "Epoch 14\n",
      "Epoch 15\n",
      "Epoch 16\n",
      "Epoch 17\n",
      "Epoch 18\n",
      "Epoch 19\n",
      "Epoch 20\n",
      "Epoch 21\n",
      "Epoch 22\n",
      "Epoch 23\n",
      "Epoch 24\n",
      "Epoch 25\n",
      "Epoch 26\n",
      "Epoch 27\n",
      "Epoch 28\n",
      "Epoch 29\n",
      "Epoch 30\n",
      "Epoch 31\n",
      "Epoch 32\n",
      "Epoch 33\n",
      "Epoch 34\n",
      "Epoch 35\n",
      "Epoch 36\n",
      "Epoch 37\n",
      "Epoch 38\n",
      "Epoch 39\n",
      "Epoch 40\n",
      "Epoch 41\n",
      "Epoch 42\n",
      "Epoch 43\n",
      "Epoch 44\n",
      "Epoch 45\n",
      "Epoch 46\n",
      "Epoch 47\n",
      "Epoch 48\n",
      "Epoch 49\n",
      "Epoch 50\n",
      "Epoch 51\n",
      "Epoch 52\n",
      "Epoch 53\n",
      "Epoch 54\n",
      "Epoch 55\n",
      "Epoch 56\n",
      "Epoch 57\n",
      "Epoch 58\n",
      "Epoch 59\n",
      "Epoch 60\n",
      "Epoch 61\n",
      "Epoch 62\n",
      "Epoch 63\n",
      "Epoch 64\n",
      "Epoch 65\n",
      "Epoch 66\n",
      "Epoch 67\n",
      "Epoch 68\n",
      "Epoch 69\n",
      "Epoch 70\n",
      "Epoch 71\n",
      "Epoch 72\n",
      "Epoch 73\n",
      "Epoch 74\n",
      "Epoch 75\n",
      "Epoch 76\n",
      "Epoch 77\n",
      "Epoch 78\n",
      "Epoch 79\n"
     ]
    },
    {
     "name": "stderr",
     "output_type": "stream",
     "text": [
      "/Users/davenovelli/miniconda3/envs/strvworkshop/lib/python3.5/site-packages/skopt/optimizer/optimizer.py:208: UserWarning: The objective has been evaluated at this point before.\n",
      "  warnings.warn(\"The objective has been evaluated \"\n"
     ]
    },
    {
     "name": "stdout",
     "output_type": "stream",
     "text": [
      "Epoch 0\n",
      "Epoch 1\n",
      "Epoch 2\n",
      "Epoch 3\n",
      "Epoch 4\n",
      "Epoch 5\n",
      "Epoch 6\n",
      "Epoch 7\n",
      "Epoch 8\n",
      "Epoch 9\n"
     ]
    },
    {
     "name": "stderr",
     "output_type": "stream",
     "text": [
      "/Users/davenovelli/miniconda3/envs/strvworkshop/lib/python3.5/site-packages/skopt/optimizer/optimizer.py:208: UserWarning: The objective has been evaluated at this point before.\n",
      "  warnings.warn(\"The objective has been evaluated \"\n"
     ]
    },
    {
     "name": "stdout",
     "output_type": "stream",
     "text": [
      "Epoch 0\n",
      "Epoch 1\n",
      "Epoch 2\n",
      "Epoch 3\n",
      "Epoch 4\n",
      "Epoch 5\n",
      "Epoch 6\n",
      "Epoch 7\n",
      "Epoch 8\n",
      "Epoch 9\n"
     ]
    },
    {
     "name": "stderr",
     "output_type": "stream",
     "text": [
      "/Users/davenovelli/miniconda3/envs/strvworkshop/lib/python3.5/site-packages/skopt/optimizer/optimizer.py:208: UserWarning: The objective has been evaluated at this point before.\n",
      "  warnings.warn(\"The objective has been evaluated \"\n"
     ]
    },
    {
     "name": "stdout",
     "output_type": "stream",
     "text": [
      "Epoch 0\n",
      "Epoch 1\n",
      "Epoch 2\n",
      "Epoch 3\n",
      "Epoch 4\n",
      "Epoch 5\n",
      "Epoch 6\n",
      "Epoch 7\n",
      "Epoch 8\n",
      "Epoch 9\n"
     ]
    },
    {
     "name": "stderr",
     "output_type": "stream",
     "text": [
      "/Users/davenovelli/miniconda3/envs/strvworkshop/lib/python3.5/site-packages/skopt/optimizer/optimizer.py:208: UserWarning: The objective has been evaluated at this point before.\n",
      "  warnings.warn(\"The objective has been evaluated \"\n"
     ]
    },
    {
     "name": "stdout",
     "output_type": "stream",
     "text": [
      "Epoch 0\n",
      "Epoch 1\n",
      "Epoch 2\n",
      "Epoch 3\n",
      "Epoch 4\n",
      "Epoch 5\n",
      "Epoch 6\n",
      "Epoch 7\n",
      "Epoch 8\n",
      "Epoch 9\n"
     ]
    },
    {
     "name": "stderr",
     "output_type": "stream",
     "text": [
      "/Users/davenovelli/miniconda3/envs/strvworkshop/lib/python3.5/site-packages/skopt/optimizer/optimizer.py:208: UserWarning: The objective has been evaluated at this point before.\n",
      "  warnings.warn(\"The objective has been evaluated \"\n"
     ]
    },
    {
     "name": "stdout",
     "output_type": "stream",
     "text": [
      "Epoch 0\n",
      "Epoch 1\n",
      "Epoch 2\n",
      "Epoch 3\n",
      "Epoch 4\n",
      "Epoch 5\n",
      "Epoch 6\n",
      "Epoch 7\n",
      "Epoch 8\n",
      "Epoch 9\n"
     ]
    },
    {
     "name": "stderr",
     "output_type": "stream",
     "text": [
      "/Users/davenovelli/miniconda3/envs/strvworkshop/lib/python3.5/site-packages/skopt/optimizer/optimizer.py:208: UserWarning: The objective has been evaluated at this point before.\n",
      "  warnings.warn(\"The objective has been evaluated \"\n"
     ]
    },
    {
     "name": "stdout",
     "output_type": "stream",
     "text": [
      "Epoch 0\n",
      "Epoch 1\n",
      "Epoch 2\n",
      "Epoch 3\n",
      "Epoch 4\n",
      "Epoch 5\n",
      "Epoch 6\n",
      "Epoch 7\n",
      "Epoch 8\n",
      "Epoch 9\n"
     ]
    },
    {
     "name": "stderr",
     "output_type": "stream",
     "text": [
      "/Users/davenovelli/miniconda3/envs/strvworkshop/lib/python3.5/site-packages/skopt/optimizer/optimizer.py:208: UserWarning: The objective has been evaluated at this point before.\n",
      "  warnings.warn(\"The objective has been evaluated \"\n"
     ]
    },
    {
     "name": "stdout",
     "output_type": "stream",
     "text": [
      "Epoch 0\n",
      "Epoch 1\n",
      "Epoch 2\n",
      "Epoch 3\n",
      "Epoch 4\n",
      "Epoch 5\n",
      "Epoch 6\n",
      "Epoch 7\n",
      "Epoch 8\n",
      "Epoch 9\n"
     ]
    },
    {
     "name": "stderr",
     "output_type": "stream",
     "text": [
      "/Users/davenovelli/miniconda3/envs/strvworkshop/lib/python3.5/site-packages/skopt/optimizer/optimizer.py:208: UserWarning: The objective has been evaluated at this point before.\n",
      "  warnings.warn(\"The objective has been evaluated \"\n"
     ]
    },
    {
     "name": "stdout",
     "output_type": "stream",
     "text": [
      "Epoch 0\n",
      "Epoch 1\n",
      "Epoch 2\n",
      "Epoch 3\n",
      "Epoch 4\n",
      "Epoch 5\n",
      "Epoch 6\n",
      "Epoch 7\n",
      "Epoch 8\n",
      "Epoch 9\n"
     ]
    },
    {
     "name": "stderr",
     "output_type": "stream",
     "text": [
      "/Users/davenovelli/miniconda3/envs/strvworkshop/lib/python3.5/site-packages/skopt/optimizer/optimizer.py:208: UserWarning: The objective has been evaluated at this point before.\n",
      "  warnings.warn(\"The objective has been evaluated \"\n"
     ]
    },
    {
     "name": "stdout",
     "output_type": "stream",
     "text": [
      "Epoch 0\n",
      "Epoch 1\n",
      "Epoch 2\n",
      "Epoch 3\n",
      "Epoch 4\n",
      "Epoch 5\n",
      "Epoch 6\n",
      "Epoch 7\n",
      "Epoch 8\n",
      "Epoch 9\n"
     ]
    },
    {
     "name": "stderr",
     "output_type": "stream",
     "text": [
      "/Users/davenovelli/miniconda3/envs/strvworkshop/lib/python3.5/site-packages/skopt/optimizer/optimizer.py:208: UserWarning: The objective has been evaluated at this point before.\n",
      "  warnings.warn(\"The objective has been evaluated \"\n"
     ]
    },
    {
     "name": "stdout",
     "output_type": "stream",
     "text": [
      "Epoch 0\n",
      "Epoch 1\n",
      "Epoch 2\n",
      "Epoch 3\n",
      "Epoch 4\n",
      "Epoch 5\n",
      "Epoch 6\n",
      "Epoch 7\n",
      "Epoch 8\n",
      "Epoch 9\n"
     ]
    },
    {
     "name": "stderr",
     "output_type": "stream",
     "text": [
      "/Users/davenovelli/miniconda3/envs/strvworkshop/lib/python3.5/site-packages/skopt/optimizer/optimizer.py:208: UserWarning: The objective has been evaluated at this point before.\n",
      "  warnings.warn(\"The objective has been evaluated \"\n"
     ]
    },
    {
     "name": "stdout",
     "output_type": "stream",
     "text": [
      "Epoch 0\n",
      "Epoch 1\n",
      "Epoch 2\n",
      "Epoch 3\n",
      "Epoch 4\n",
      "Epoch 5\n",
      "Epoch 6\n",
      "Epoch 7\n",
      "Epoch 8\n",
      "Epoch 9\n"
     ]
    },
    {
     "name": "stderr",
     "output_type": "stream",
     "text": [
      "/Users/davenovelli/miniconda3/envs/strvworkshop/lib/python3.5/site-packages/skopt/optimizer/optimizer.py:208: UserWarning: The objective has been evaluated at this point before.\n",
      "  warnings.warn(\"The objective has been evaluated \"\n"
     ]
    },
    {
     "name": "stdout",
     "output_type": "stream",
     "text": [
      "Epoch 0\n",
      "Epoch 1\n",
      "Epoch 2\n",
      "Epoch 3\n",
      "Epoch 4\n",
      "Epoch 5\n",
      "Epoch 6\n",
      "Epoch 7\n",
      "Epoch 8\n",
      "Epoch 9\n"
     ]
    },
    {
     "name": "stderr",
     "output_type": "stream",
     "text": [
      "/Users/davenovelli/miniconda3/envs/strvworkshop/lib/python3.5/site-packages/skopt/optimizer/optimizer.py:208: UserWarning: The objective has been evaluated at this point before.\n",
      "  warnings.warn(\"The objective has been evaluated \"\n"
     ]
    },
    {
     "name": "stdout",
     "output_type": "stream",
     "text": [
      "Epoch 0\n",
      "Epoch 1\n",
      "Epoch 2\n",
      "Epoch 3\n",
      "Epoch 4\n",
      "Epoch 5\n",
      "Epoch 6\n",
      "Epoch 7\n",
      "Epoch 8\n",
      "Epoch 9\n"
     ]
    },
    {
     "name": "stderr",
     "output_type": "stream",
     "text": [
      "/Users/davenovelli/miniconda3/envs/strvworkshop/lib/python3.5/site-packages/skopt/optimizer/optimizer.py:208: UserWarning: The objective has been evaluated at this point before.\n",
      "  warnings.warn(\"The objective has been evaluated \"\n"
     ]
    },
    {
     "name": "stdout",
     "output_type": "stream",
     "text": [
      "Epoch 0\n",
      "Epoch 1\n",
      "Epoch 2\n",
      "Epoch 3\n",
      "Epoch 4\n",
      "Epoch 5\n",
      "Epoch 6\n",
      "Epoch 7\n",
      "Epoch 8\n",
      "Epoch 9\n"
     ]
    },
    {
     "name": "stderr",
     "output_type": "stream",
     "text": [
      "/Users/davenovelli/miniconda3/envs/strvworkshop/lib/python3.5/site-packages/skopt/optimizer/optimizer.py:208: UserWarning: The objective has been evaluated at this point before.\n",
      "  warnings.warn(\"The objective has been evaluated \"\n"
     ]
    },
    {
     "name": "stdout",
     "output_type": "stream",
     "text": [
      "Epoch 0\n",
      "Epoch 1\n",
      "Epoch 2\n",
      "Epoch 3\n",
      "Epoch 4\n",
      "Epoch 5\n",
      "Epoch 6\n",
      "Epoch 7\n",
      "Epoch 8\n",
      "Epoch 9\n"
     ]
    },
    {
     "name": "stderr",
     "output_type": "stream",
     "text": [
      "/Users/davenovelli/miniconda3/envs/strvworkshop/lib/python3.5/site-packages/skopt/optimizer/optimizer.py:208: UserWarning: The objective has been evaluated at this point before.\n",
      "  warnings.warn(\"The objective has been evaluated \"\n"
     ]
    },
    {
     "name": "stdout",
     "output_type": "stream",
     "text": [
      "Epoch 0\n",
      "Epoch 1\n",
      "Epoch 2\n",
      "Epoch 3\n",
      "Epoch 4\n",
      "Epoch 5\n",
      "Epoch 6\n",
      "Epoch 7\n",
      "Epoch 8\n",
      "Epoch 9\n"
     ]
    },
    {
     "name": "stderr",
     "output_type": "stream",
     "text": [
      "/Users/davenovelli/miniconda3/envs/strvworkshop/lib/python3.5/site-packages/skopt/optimizer/optimizer.py:208: UserWarning: The objective has been evaluated at this point before.\n",
      "  warnings.warn(\"The objective has been evaluated \"\n"
     ]
    },
    {
     "name": "stdout",
     "output_type": "stream",
     "text": [
      "Epoch 0\n",
      "Epoch 1\n",
      "Epoch 2\n",
      "Epoch 3\n",
      "Epoch 4\n",
      "Epoch 5\n",
      "Epoch 6\n",
      "Epoch 7\n",
      "Epoch 8\n",
      "Epoch 9\n"
     ]
    },
    {
     "name": "stderr",
     "output_type": "stream",
     "text": [
      "/Users/davenovelli/miniconda3/envs/strvworkshop/lib/python3.5/site-packages/skopt/optimizer/optimizer.py:208: UserWarning: The objective has been evaluated at this point before.\n",
      "  warnings.warn(\"The objective has been evaluated \"\n"
     ]
    },
    {
     "name": "stdout",
     "output_type": "stream",
     "text": [
      "Epoch 0\n",
      "Epoch 1\n",
      "Epoch 2\n",
      "Epoch 3\n",
      "Epoch 4\n",
      "Epoch 5\n",
      "Epoch 6\n",
      "Epoch 7\n",
      "Epoch 8\n",
      "Epoch 9\n"
     ]
    },
    {
     "name": "stderr",
     "output_type": "stream",
     "text": [
      "/Users/davenovelli/miniconda3/envs/strvworkshop/lib/python3.5/site-packages/skopt/optimizer/optimizer.py:208: UserWarning: The objective has been evaluated at this point before.\n",
      "  warnings.warn(\"The objective has been evaluated \"\n"
     ]
    },
    {
     "name": "stdout",
     "output_type": "stream",
     "text": [
      "Epoch 0\n",
      "Epoch 1\n",
      "Epoch 2\n",
      "Epoch 3\n",
      "Epoch 4\n",
      "Epoch 5\n",
      "Epoch 6\n",
      "Epoch 7\n",
      "Epoch 8\n",
      "Epoch 9\n"
     ]
    },
    {
     "name": "stderr",
     "output_type": "stream",
     "text": [
      "/Users/davenovelli/miniconda3/envs/strvworkshop/lib/python3.5/site-packages/skopt/optimizer/optimizer.py:208: UserWarning: The objective has been evaluated at this point before.\n",
      "  warnings.warn(\"The objective has been evaluated \"\n"
     ]
    },
    {
     "name": "stdout",
     "output_type": "stream",
     "text": [
      "Epoch 0\n",
      "Epoch 1\n",
      "Epoch 2\n",
      "Epoch 3\n",
      "Epoch 4\n",
      "Epoch 5\n",
      "Epoch 6\n",
      "Epoch 7\n",
      "Epoch 8\n",
      "Epoch 9\n"
     ]
    },
    {
     "name": "stderr",
     "output_type": "stream",
     "text": [
      "/Users/davenovelli/miniconda3/envs/strvworkshop/lib/python3.5/site-packages/skopt/optimizer/optimizer.py:208: UserWarning: The objective has been evaluated at this point before.\n",
      "  warnings.warn(\"The objective has been evaluated \"\n"
     ]
    },
    {
     "name": "stdout",
     "output_type": "stream",
     "text": [
      "Epoch 0\n",
      "Epoch 1\n",
      "Epoch 2\n",
      "Epoch 3\n",
      "Epoch 4\n",
      "Epoch 5\n",
      "Epoch 6\n",
      "Epoch 7\n",
      "Epoch 8\n",
      "Epoch 9\n"
     ]
    },
    {
     "name": "stderr",
     "output_type": "stream",
     "text": [
      "/Users/davenovelli/miniconda3/envs/strvworkshop/lib/python3.5/site-packages/skopt/optimizer/optimizer.py:208: UserWarning: The objective has been evaluated at this point before.\n",
      "  warnings.warn(\"The objective has been evaluated \"\n"
     ]
    },
    {
     "name": "stdout",
     "output_type": "stream",
     "text": [
      "Epoch 0\n",
      "Epoch 1\n",
      "Epoch 2\n",
      "Epoch 3\n",
      "Epoch 4\n",
      "Epoch 5\n",
      "Epoch 6\n",
      "Epoch 7\n",
      "Epoch 8\n",
      "Epoch 9\n"
     ]
    },
    {
     "name": "stderr",
     "output_type": "stream",
     "text": [
      "/Users/davenovelli/miniconda3/envs/strvworkshop/lib/python3.5/site-packages/skopt/optimizer/optimizer.py:208: UserWarning: The objective has been evaluated at this point before.\n",
      "  warnings.warn(\"The objective has been evaluated \"\n"
     ]
    },
    {
     "name": "stdout",
     "output_type": "stream",
     "text": [
      "Epoch 0\n",
      "Epoch 1\n",
      "Epoch 2\n",
      "Epoch 3\n",
      "Epoch 4\n",
      "Epoch 5\n",
      "Epoch 6\n",
      "Epoch 7\n",
      "Epoch 8\n",
      "Epoch 9\n"
     ]
    },
    {
     "name": "stderr",
     "output_type": "stream",
     "text": [
      "/Users/davenovelli/miniconda3/envs/strvworkshop/lib/python3.5/site-packages/skopt/optimizer/optimizer.py:208: UserWarning: The objective has been evaluated at this point before.\n",
      "  warnings.warn(\"The objective has been evaluated \"\n"
     ]
    },
    {
     "name": "stdout",
     "output_type": "stream",
     "text": [
      "Epoch 0\n",
      "Epoch 1\n",
      "Epoch 2\n",
      "Epoch 3\n",
      "Epoch 4\n",
      "Epoch 5\n",
      "Epoch 6\n",
      "Epoch 7\n",
      "Epoch 8\n",
      "Epoch 9\n"
     ]
    },
    {
     "name": "stderr",
     "output_type": "stream",
     "text": [
      "/Users/davenovelli/miniconda3/envs/strvworkshop/lib/python3.5/site-packages/skopt/optimizer/optimizer.py:208: UserWarning: The objective has been evaluated at this point before.\n",
      "  warnings.warn(\"The objective has been evaluated \"\n"
     ]
    },
    {
     "name": "stdout",
     "output_type": "stream",
     "text": [
      "Epoch 0\n",
      "Epoch 1\n",
      "Epoch 2\n",
      "Epoch 3\n",
      "Epoch 4\n",
      "Epoch 5\n",
      "Epoch 6\n",
      "Epoch 7\n",
      "Epoch 8\n",
      "Epoch 9\n"
     ]
    },
    {
     "name": "stderr",
     "output_type": "stream",
     "text": [
      "/Users/davenovelli/miniconda3/envs/strvworkshop/lib/python3.5/site-packages/skopt/optimizer/optimizer.py:208: UserWarning: The objective has been evaluated at this point before.\n",
      "  warnings.warn(\"The objective has been evaluated \"\n"
     ]
    },
    {
     "name": "stdout",
     "output_type": "stream",
     "text": [
      "Epoch 0\n",
      "Epoch 1\n",
      "Epoch 2\n",
      "Epoch 3\n",
      "Epoch 4\n",
      "Epoch 5\n",
      "Epoch 6\n",
      "Epoch 7\n",
      "Epoch 8\n",
      "Epoch 9\n"
     ]
    },
    {
     "name": "stderr",
     "output_type": "stream",
     "text": [
      "/Users/davenovelli/miniconda3/envs/strvworkshop/lib/python3.5/site-packages/skopt/optimizer/optimizer.py:208: UserWarning: The objective has been evaluated at this point before.\n",
      "  warnings.warn(\"The objective has been evaluated \"\n"
     ]
    },
    {
     "name": "stdout",
     "output_type": "stream",
     "text": [
      "Epoch 0\n",
      "Epoch 1\n",
      "Epoch 2\n",
      "Epoch 3\n",
      "Epoch 4\n",
      "Epoch 5\n",
      "Epoch 6\n",
      "Epoch 7\n",
      "Epoch 8\n",
      "Epoch 9\n"
     ]
    },
    {
     "name": "stderr",
     "output_type": "stream",
     "text": [
      "/Users/davenovelli/miniconda3/envs/strvworkshop/lib/python3.5/site-packages/skopt/optimizer/optimizer.py:208: UserWarning: The objective has been evaluated at this point before.\n",
      "  warnings.warn(\"The objective has been evaluated \"\n"
     ]
    },
    {
     "name": "stdout",
     "output_type": "stream",
     "text": [
      "Epoch 0\n",
      "Epoch 1\n",
      "Epoch 2\n",
      "Epoch 3\n",
      "Epoch 4\n",
      "Epoch 5\n",
      "Epoch 6\n",
      "Epoch 7\n",
      "Epoch 8\n",
      "Epoch 9\n"
     ]
    },
    {
     "name": "stderr",
     "output_type": "stream",
     "text": [
      "/Users/davenovelli/miniconda3/envs/strvworkshop/lib/python3.5/site-packages/skopt/optimizer/optimizer.py:208: UserWarning: The objective has been evaluated at this point before.\n",
      "  warnings.warn(\"The objective has been evaluated \"\n"
     ]
    },
    {
     "name": "stdout",
     "output_type": "stream",
     "text": [
      "Epoch 0\n",
      "Epoch 1\n",
      "Epoch 2\n",
      "Epoch 3\n",
      "Epoch 4\n",
      "Epoch 5\n",
      "Epoch 6\n",
      "Epoch 7\n",
      "Epoch 8\n",
      "Epoch 9\n"
     ]
    },
    {
     "name": "stderr",
     "output_type": "stream",
     "text": [
      "/Users/davenovelli/miniconda3/envs/strvworkshop/lib/python3.5/site-packages/skopt/optimizer/optimizer.py:208: UserWarning: The objective has been evaluated at this point before.\n",
      "  warnings.warn(\"The objective has been evaluated \"\n"
     ]
    },
    {
     "name": "stdout",
     "output_type": "stream",
     "text": [
      "Epoch 0\n",
      "Epoch 1\n",
      "Epoch 2\n",
      "Epoch 3\n",
      "Epoch 4\n",
      "Epoch 5\n",
      "Epoch 6\n",
      "Epoch 7\n",
      "Epoch 8\n",
      "Epoch 9\n"
     ]
    },
    {
     "name": "stderr",
     "output_type": "stream",
     "text": [
      "/Users/davenovelli/miniconda3/envs/strvworkshop/lib/python3.5/site-packages/skopt/optimizer/optimizer.py:208: UserWarning: The objective has been evaluated at this point before.\n",
      "  warnings.warn(\"The objective has been evaluated \"\n"
     ]
    },
    {
     "name": "stdout",
     "output_type": "stream",
     "text": [
      "Epoch 0\n",
      "Epoch 1\n",
      "Epoch 2\n",
      "Epoch 3\n",
      "Epoch 4\n",
      "Epoch 5\n",
      "Epoch 6\n",
      "Epoch 7\n",
      "Epoch 8\n",
      "Epoch 9\n"
     ]
    },
    {
     "name": "stderr",
     "output_type": "stream",
     "text": [
      "/Users/davenovelli/miniconda3/envs/strvworkshop/lib/python3.5/site-packages/skopt/optimizer/optimizer.py:208: UserWarning: The objective has been evaluated at this point before.\n",
      "  warnings.warn(\"The objective has been evaluated \"\n"
     ]
    },
    {
     "name": "stdout",
     "output_type": "stream",
     "text": [
      "Epoch 0\n",
      "Epoch 1\n",
      "Epoch 2\n",
      "Epoch 3\n",
      "Epoch 4\n",
      "Epoch 5\n",
      "Epoch 6\n",
      "Epoch 7\n",
      "Epoch 8\n",
      "Epoch 9\n"
     ]
    },
    {
     "name": "stderr",
     "output_type": "stream",
     "text": [
      "/Users/davenovelli/miniconda3/envs/strvworkshop/lib/python3.5/site-packages/skopt/optimizer/optimizer.py:208: UserWarning: The objective has been evaluated at this point before.\n",
      "  warnings.warn(\"The objective has been evaluated \"\n"
     ]
    },
    {
     "name": "stdout",
     "output_type": "stream",
     "text": [
      "Epoch 0\n",
      "Epoch 1\n",
      "Epoch 2\n",
      "Epoch 3\n",
      "Epoch 4\n",
      "Epoch 5\n",
      "Epoch 6\n",
      "Epoch 7\n",
      "Epoch 8\n",
      "Epoch 9\n"
     ]
    },
    {
     "name": "stderr",
     "output_type": "stream",
     "text": [
      "/Users/davenovelli/miniconda3/envs/strvworkshop/lib/python3.5/site-packages/skopt/optimizer/optimizer.py:208: UserWarning: The objective has been evaluated at this point before.\n",
      "  warnings.warn(\"The objective has been evaluated \"\n"
     ]
    },
    {
     "name": "stdout",
     "output_type": "stream",
     "text": [
      "Epoch 0\n",
      "Epoch 1\n",
      "Epoch 2\n",
      "Epoch 3\n",
      "Epoch 4\n",
      "Epoch 5\n",
      "Epoch 6\n",
      "Epoch 7\n",
      "Epoch 8\n",
      "Epoch 9\n"
     ]
    },
    {
     "name": "stderr",
     "output_type": "stream",
     "text": [
      "/Users/davenovelli/miniconda3/envs/strvworkshop/lib/python3.5/site-packages/skopt/optimizer/optimizer.py:208: UserWarning: The objective has been evaluated at this point before.\n",
      "  warnings.warn(\"The objective has been evaluated \"\n"
     ]
    },
    {
     "name": "stdout",
     "output_type": "stream",
     "text": [
      "Epoch 0\n",
      "Epoch 1\n",
      "Epoch 2\n",
      "Epoch 3\n",
      "Epoch 4\n",
      "Epoch 5\n",
      "Epoch 6\n",
      "Epoch 7\n",
      "Epoch 8\n",
      "Epoch 9\n"
     ]
    },
    {
     "name": "stderr",
     "output_type": "stream",
     "text": [
      "/Users/davenovelli/miniconda3/envs/strvworkshop/lib/python3.5/site-packages/skopt/optimizer/optimizer.py:208: UserWarning: The objective has been evaluated at this point before.\n",
      "  warnings.warn(\"The objective has been evaluated \"\n"
     ]
    },
    {
     "name": "stdout",
     "output_type": "stream",
     "text": [
      "Epoch 0\n",
      "Epoch 1\n",
      "Epoch 2\n",
      "Epoch 3\n",
      "Epoch 4\n",
      "Epoch 5\n",
      "Epoch 6\n",
      "Epoch 7\n",
      "Epoch 8\n",
      "Epoch 9\n"
     ]
    },
    {
     "name": "stderr",
     "output_type": "stream",
     "text": [
      "/Users/davenovelli/miniconda3/envs/strvworkshop/lib/python3.5/site-packages/skopt/optimizer/optimizer.py:208: UserWarning: The objective has been evaluated at this point before.\n",
      "  warnings.warn(\"The objective has been evaluated \"\n"
     ]
    },
    {
     "name": "stdout",
     "output_type": "stream",
     "text": [
      "Epoch 0\n",
      "Epoch 1\n",
      "Epoch 2\n",
      "Epoch 3\n",
      "Epoch 4\n",
      "Epoch 5\n",
      "Epoch 6\n",
      "Epoch 7\n",
      "Epoch 8\n",
      "Epoch 9\n"
     ]
    },
    {
     "name": "stderr",
     "output_type": "stream",
     "text": [
      "/Users/davenovelli/miniconda3/envs/strvworkshop/lib/python3.5/site-packages/skopt/optimizer/optimizer.py:208: UserWarning: The objective has been evaluated at this point before.\n",
      "  warnings.warn(\"The objective has been evaluated \"\n"
     ]
    },
    {
     "name": "stdout",
     "output_type": "stream",
     "text": [
      "Epoch 0\n",
      "Epoch 1\n",
      "Epoch 2\n",
      "Epoch 3\n",
      "Epoch 4\n",
      "Epoch 5\n",
      "Epoch 6\n",
      "Epoch 7\n",
      "Epoch 8\n",
      "Epoch 9\n"
     ]
    },
    {
     "name": "stderr",
     "output_type": "stream",
     "text": [
      "/Users/davenovelli/miniconda3/envs/strvworkshop/lib/python3.5/site-packages/skopt/optimizer/optimizer.py:208: UserWarning: The objective has been evaluated at this point before.\n",
      "  warnings.warn(\"The objective has been evaluated \"\n"
     ]
    },
    {
     "name": "stdout",
     "output_type": "stream",
     "text": [
      "Epoch 0\n",
      "Epoch 1\n",
      "Epoch 2\n",
      "Epoch 3\n",
      "Epoch 4\n",
      "Epoch 5\n",
      "Epoch 6\n",
      "Epoch 7\n",
      "Epoch 8\n",
      "Epoch 9\n",
      "Maximimum p@k found: 0.35287\n",
      "Optimal parameters:\n",
      "epochs: 80\n",
      "learning_schedule: adagrad\n",
      "no_components: 25\n",
      "user_alpha: 0.001\n"
     ]
    }
   ],
   "source": [
    "# Let's use a grid search to make sure that we're picking the best params for learning - as of right now the hybrid\n",
    "# model is doing worse than the standard model - no bueno\n",
    "def objective(params):\n",
    "    # unpack\n",
    "    epochs, learning_sched, no_components, user_alpha = params\n",
    "#     epochs, learning_sched, no_components = params\n",
    "    \n",
    "    model = LightFM(loss='warp'\n",
    "                    ,random_state=2017\n",
    "                    ,learning_schedule=learning_sched\n",
    "                    ,no_components=no_components\n",
    "                    ,user_alpha=user_alpha)\n",
    "    \n",
    "    model.fit(train_mtx, epochs=epochs, user_features=users_csr, num_threads=8, verbose=True)\n",
    "    \n",
    "    patks = lightfm.evaluation.precision_at_k(model, test_mtx, user_features=users_csr\n",
    "                                              , train_interactions=train_mtx, k=5, num_threads=8)\n",
    "    mapatk = np.mean(patks)\n",
    "    # Make negative because we want to _minimize_ objective\n",
    "    out = -mapatk\n",
    "    # Weird shit going on\n",
    "    if np.abs(out + 1) < 0.01 or out < -1.0:\n",
    "        return 0.0\n",
    "    else:\n",
    "        return out\n",
    "\n",
    "space = [(5, 10, 20, 40, 80), # epochs\n",
    "         ('adagrad', 'adadelta'), # learning_rate_schedule\n",
    "         (5, 10, 25, 50, 100), # no_components\n",
    "         (10**-5, 10**-4, 10**-3) # user_alpha\n",
    "        ]\n",
    "\n",
    "from skopt import forest_minimize\n",
    "res_fm_itemfeat = forest_minimize(objective, space, n_calls=100\n",
    "                                  #,random_state=0,\n",
    "                                  #,verbose=True\n",
    "                                 )\n",
    "\n",
    "print('Maximimum p@k found: {:6.5f}'.format(-res_fm_itemfeat.fun))\n",
    "print('Optimal parameters:')\n",
    "params = ['epochs', 'learning_schedule', 'no_components', 'user_alpha']\n",
    "for (p, x_) in zip(params, res_fm_itemfeat.x):\n",
    "    print('{}: {}'.format(p, x_))"
   ]
  },
  {
   "cell_type": "code",
   "execution_count": 33,
   "metadata": {},
   "outputs": [
    {
     "name": "stdout",
     "output_type": "stream",
     "text": [
      "Maximimum p@k found: 0.35287\n",
      "Optimal parameters:\n",
      "epochs: 80\n",
      "learning_schedule: adagrad\n",
      "no_components: 25\n",
      "user_alpha: 0.001\n"
     ]
    }
   ],
   "source": [
    "print('Maximimum p@k found: {:6.5f}'.format(-res_fm_itemfeat.fun))\n",
    "print('Optimal parameters:')\n",
    "params = ['epochs', 'learning_schedule', 'no_components', 'user_alpha']\n",
    "for (p, x_) in zip(params, res_fm_itemfeat.x):\n",
    "    print('{}: {}'.format(p, x_))"
   ]
  },
  {
   "cell_type": "code",
   "execution_count": null,
   "metadata": {
    "collapsed": true
   },
   "outputs": [],
   "source": []
  },
  {
   "cell_type": "code",
   "execution_count": 53,
   "metadata": {},
   "outputs": [
    {
     "name": "stdout",
     "output_type": "stream",
     "text": [
      "Completed epoch: 1\n",
      "Completed epoch: 6\n",
      "Completed epoch: 11\n",
      "Completed epoch: 16\n",
      "Completed epoch: 21\n",
      "Completed epoch: 26\n"
     ]
    }
   ],
   "source": [
    "# Construct curves for AUC and P@k for the model incorporating features\n",
    "EPOCHS = 25\n",
    "train_auc = []\n",
    "test_auc = []\n",
    "train_pak = []\n",
    "test_pak = []\n",
    "\n",
    "\n",
    "# Let's get an initial pass in to see where we're starting\n",
    "model.fit_partial(train_mtx, user_features=users_csr, epochs=1)\n",
    "train_auc.append(auc_score(model, train_mtx, user_features=users_csr, num_threads=8).mean())\n",
    "test_auc.append(auc_score(model, test_mtx, user_features=users_csr, num_threads=8).mean())\n",
    "train_pak.append(precision_at_k(model, train_mtx, user_features=users_csr, k=20, num_threads=8).mean())\n",
    "test_pak.append(precision_at_k(model, test_mtx, train_interactions=train_mtx, user_features=users_csr, k=20 \\\n",
    "                              , num_threads=8).mean())\n",
    "print(\"Completed epoch: {}\".format(1))\n",
    "\n",
    "# Now train 5 epochs at a time until we reach the max\n",
    "for i in range(int(EPOCHS/5)):\n",
    "    model.fit_partial(train_mtx, user_features=users_csr, epochs=5)\n",
    "    train_auc.append(auc_score(model, train_mtx, user_features=users_csr, num_threads=8).mean())\n",
    "    test_auc.append(auc_score(model, test_mtx, train_interactions=train_mtx, user_features=users_csr \\\n",
    "                             , num_threads=8).mean())\n",
    "    train_pak.append(precision_at_k(model, train_mtx, user_features=users_csr, k=20, num_threads=8).mean())\n",
    "    test_pak.append(precision_at_k(model, test_mtx, train_interactions=train_mtx, user_features=users_csr, k=20 \\\n",
    "                                  , num_threads=8).mean())\n",
    "    print(\"Completed epoch: {}\".format(1+(i+1)*5))\n"
   ]
  },
  {
   "cell_type": "code",
   "execution_count": 54,
   "metadata": {},
   "outputs": [
    {
     "data": {
      "image/png": "[encoded data removed]",
      "text/plain": [
       "<matplotlib.figure.Figure at 0x160e4bda0>"
      ]
     },
     "metadata": {},
     "output_type": "display_data"
    }
   ],
   "source": [
    "# Plot the AUC for the hybrid model\n",
    "plt.plot(range(1, EPOCHS+2, 5), train_auc, 'b')\n",
    "plt.plot(range(1, EPOCHS+2, 5), test_auc, 'g')\n",
    "plt.ylabel('AUC')\n",
    "plt.xlabel('Epoch #')\n",
    "plt.show()"
   ]
  },
  {
   "cell_type": "code",
   "execution_count": 55,
   "metadata": {},
   "outputs": [
    {
     "name": "stdout",
     "output_type": "stream",
     "text": [
      "AUC: train 0.74, test 0.75.\n"
     ]
    }
   ],
   "source": [
    "# Print the exact AUC numbers for the hybrid model\n",
    "train_auc = auc_score(model, train_mtx, user_features=users_csr, num_threads=8).mean()\n",
    "test_auc = auc_score(model, test_mtx, train_interactions=train_mtx, \\\n",
    "                     user_features=users_csr, num_threads=8).mean()\n",
    "print('AUC: train %.2f, test %.2f.' % (train_auc, test_auc))"
   ]
  },
  {
   "cell_type": "code",
   "execution_count": 56,
   "metadata": {},
   "outputs": [
    {
     "data": {
      "image/png": "[encoded data removed]",
      "text/plain": [
       "<matplotlib.figure.Figure at 0x1611de208>"
      ]
     },
     "metadata": {},
     "output_type": "display_data"
    }
   ],
   "source": [
    "# Plot the P@k for the hybrid model\n",
    "plt.plot(range(1, EPOCHS+2, 5), train_pak, 'b')\n",
    "plt.plot(range(1, EPOCHS+2, 5), test_pak, 'g')\n",
    "plt.ylabel('P@K')\n",
    "plt.xlabel('Epoch #')\n",
    "plt.show()"
   ]
  },
  {
   "cell_type": "code",
   "execution_count": 57,
   "metadata": {},
   "outputs": [
    {
     "name": "stdout",
     "output_type": "stream",
     "text": [
      "Precision: train 0.23, test 0.14.\n"
     ]
    }
   ],
   "source": [
    "# Print the exact P@k numbers for the hybrid model\n",
    "train_precision = precision_at_k(model, train_mtx, user_features=users_csr, k=20, num_threads=8).mean()\n",
    "test_precision = precision_at_k(model, test_mtx, train_interactions=train_mtx, \\\n",
    "                                user_features=users_csr, k=20, num_threads=8).mean()\n",
    "print('Precision: train %.2f, test %.2f.' % (train_precision, test_precision))"
   ]
  },
  {
   "cell_type": "code",
   "execution_count": 58,
   "metadata": {},
   "outputs": [
    {
     "name": "stdout",
     "output_type": "stream",
     "text": [
      "User idx: 6277 ---------------------------------------\n",
      "       rankscore  useridx\n",
      "1844 -585.119995     1844\n",
      "5772 -737.319824     5772\n",
      "5940 -826.285034     5940\n",
      "5500 -849.601929     5500\n",
      "2958 -888.083801     2958\n",
      "User idx: 6548 ---------------------------------------\n",
      "       rankscore  useridx\n",
      "1844 -640.044983     1844\n",
      "5772 -756.640991     5772\n",
      "5940 -887.613770     5940\n",
      "5500 -923.261658     5500\n",
      "2958 -955.397949     2958\n",
      "User idx: 4875 ---------------------------------------\n",
      "        rankscore  useridx\n",
      "5772  2071.391113     5772\n",
      "1845 -5970.205566     1845\n",
      "4185 -6557.913574     4185\n",
      "63   -6821.677246       63\n",
      "775  -7285.648438      775\n",
      "User idx: 1048 ---------------------------------------\n",
      "       rankscore  useridx\n",
      "1844 -673.610107     1844\n",
      "5772 -768.448120     5772\n",
      "5940 -925.092468     5940\n",
      "5500 -968.275757     5500\n",
      "2958 -996.534180     2958\n",
      "User idx: 3847 ---------------------------------------\n",
      "         rankscore  useridx\n",
      "5772 -11165.994141     5772\n",
      "1845 -19616.074219     1845\n",
      "4185 -19898.003906     4185\n",
      "1869 -20115.365234     1869\n",
      "303  -20232.587891      303\n"
     ]
    }
   ],
   "source": [
    "# Print out the top 5 recommendations for any random 5 users - this is essentially a sanity check (specifically, we\n",
    "# want to see that each user has different ID's)\n",
    "for i in random.sample(range(1, 6550), 5):\n",
    "    print(\"User idx: {} ---------------------------------------\".format(i))\n",
    "    predictions = model.predict(i, lookup['index'].values, user_features=users_csr, num_threads=8)\n",
    "    preds_df = pd.DataFrame({'useridx': lookup['index'].values, 'rankscore': predictions})\n",
    "    print(preds_df.sort_values('rankscore', ascending=False).head())\n",
    "    rankscore, rankeduser = np.unique(predictions[~np.isnan(predictions)], return_index=True)"
   ]
  },
  {
   "cell_type": "code",
   "execution_count": 59,
   "metadata": {},
   "outputs": [
    {
     "name": "stdout",
     "output_type": "stream",
     "text": [
      "   index     id\n",
      "0      0  54362\n",
      "   index     id\n",
      "1      1  73244\n",
      "   index     id\n",
      "2      2  76839\n",
      "   index     id\n",
      "3      3  92132\n",
      "   index     id\n",
      "4      4  92220\n"
     ]
    }
   ],
   "source": [
    "for pred in preds_df.useridx.values[:5]:\n",
    "    print(lookup[lookup['index'] == pred])"
   ]
  },
  {
   "cell_type": "code",
   "execution_count": 143,
   "metadata": {},
   "outputs": [
    {
     "data": {
      "text/html": [
       "<img src=\"https://az521087.vo.msecnd.net/photos/92c6a4d4-581b-4c75-bd17-368976a5d144.jpg\"/>"
      ],
      "text/plain": [
       "<IPython.core.display.Image object>"
      ]
     },
     "execution_count": 143,
     "metadata": {},
     "output_type": "execute_result"
    }
   ],
   "source": [
    "from IPython.display import Image\n",
    "Image(url=\"https://az521087.vo.msecnd.net/photos/92c6a4d4-581b-4c75-bd17-368976a5d144.jpg\")"
   ]
  },
  {
   "cell_type": "code",
   "execution_count": 142,
   "metadata": {},
   "outputs": [
    {
     "data": {
      "text/html": [
       "<img src=\"https://az521087.vo.msecnd.net/photos/3adfdfb1-b1c8-41d2-84e3-dda061079331.jpg\"/>"
      ],
      "text/plain": [
       "<IPython.core.display.Image object>"
      ]
     },
     "execution_count": 142,
     "metadata": {},
     "output_type": "execute_result"
    }
   ],
   "source": [
    "Image(url=\"https://az521087.vo.msecnd.net/photos/3adfdfb1-b1c8-41d2-84e3-dda061079331.jpg\")"
   ]
  },
  {
   "cell_type": "code",
   "execution_count": 146,
   "metadata": {},
   "outputs": [
    {
     "data": {
      "text/html": [
       "<img src=\"https://az521087.vo.msecnd.net/photos/2c85007e-26c7-4379-9e74-fc0eabbb66a4.jpg\"/>"
      ],
      "text/plain": [
       "<IPython.core.display.Image object>"
      ]
     },
     "execution_count": 146,
     "metadata": {},
     "output_type": "execute_result"
    }
   ],
   "source": [
    "Image(url=\"https://az521087.vo.msecnd.net/photos/2c85007e-26c7-4379-9e74-fc0eabbb66a4.jpg\")"
   ]
  },
  {
   "cell_type": "code",
   "execution_count": null,
   "metadata": {
    "collapsed": true
   },
   "outputs": [],
   "source": []
  }
 ],
 "metadata": {
  "kernelspec": {
   "display_name": "Python 3",
   "language": "python",
   "name": "python3"
  },
  "language_info": {
   "codemirror_mode": {
    "name": "ipython",
    "version": 3
   },
   "file_extension": ".py",
   "mimetype": "text/x-python",
   "name": "python",
   "nbconvert_exporter": "python",
   "pygments_lexer": "ipython3",
   "version": "3.5.3"
  }
 },
 "nbformat": 4,
 "nbformat_minor": 2
}
